{
 "cells": [
  {
   "cell_type": "markdown",
   "id": "9c1c79d2-07ba-4e13-883c-ca9ddf411361",
   "metadata": {},
   "source": [
    "# Functions in Python "
   ]
  },
  {
   "cell_type": "code",
   "execution_count": 1,
   "id": "2b1ae429-7745-4044-ac68-260e556b7120",
   "metadata": {},
   "outputs": [],
   "source": [
    "def add(a,b):\n",
    "    sum = a+b\n",
    "    return sum"
   ]
  },
  {
   "cell_type": "code",
   "execution_count": 2,
   "id": "28ee7f43-3afc-45c7-8e23-7692ddbb51f3",
   "metadata": {},
   "outputs": [
    {
     "data": {
      "text/plain": [
       "7"
      ]
     },
     "execution_count": 2,
     "metadata": {},
     "output_type": "execute_result"
    }
   ],
   "source": [
    "x = add(3,4)\n",
    "x"
   ]
  },
  {
   "cell_type": "markdown",
   "id": "97a2b6b8-13fb-4078-b543-281f58ae43b5",
   "metadata": {},
   "source": [
    "## Variable length arguments (*args or *kargs)"
   ]
  },
  {
   "cell_type": "markdown",
   "id": "3a8abe9b-bcdc-41b6-ace6-1d97683d429b",
   "metadata": {},
   "source": [
    "#### Positional arguments (*args or *krish or *anything) -> data not in the form of key-value pairs"
   ]
  },
  {
   "cell_type": "code",
   "execution_count": 3,
   "id": "5d095f27-c8c0-46ce-9d1b-627d652ac72b",
   "metadata": {},
   "outputs": [],
   "source": [
    "def print_numbers(*krish):\n",
    "    for numbers in krish:\n",
    "        print(numbers)"
   ]
  },
  {
   "cell_type": "code",
   "execution_count": 4,
   "id": "c7ff6be3-765f-4988-9cc0-6f829a171b8e",
   "metadata": {},
   "outputs": [
    {
     "name": "stdout",
     "output_type": "stream",
     "text": [
      "1\n",
      "2\n",
      "3\n",
      "3\n",
      "4\n",
      "5\n",
      "6\n"
     ]
    }
   ],
   "source": [
    "print_numbers(1,2,3,3,4,5,6)"
   ]
  },
  {
   "cell_type": "code",
   "execution_count": 5,
   "id": "c0b6aa9e-e111-40a5-adca-16e01f979437",
   "metadata": {},
   "outputs": [],
   "source": [
    "def print_value(*args):\n",
    "    for i in args:\n",
    "        print(i)"
   ]
  },
  {
   "cell_type": "code",
   "execution_count": 6,
   "id": "5b8c28fe-8f8d-43bb-a681-7ab1af14ae86",
   "metadata": {},
   "outputs": [
    {
     "name": "stdout",
     "output_type": "stream",
     "text": [
      "1\n",
      "2\n",
      "2\n",
      "3\n",
      "3\n",
      "4\n",
      "5\n",
      "6\n",
      "Hello\n",
      "7\n",
      "7\n",
      "8\n"
     ]
    }
   ],
   "source": [
    "print_value(1,2,2,3,3,4,5,6,'Hello',7,7,8)"
   ]
  },
  {
   "cell_type": "markdown",
   "id": "3eb3c4c5-5f93-4ac1-93f6-0316ec64cc6a",
   "metadata": {},
   "source": [
    "### Keyword Arguments (**kwargs or **mars or **anything)"
   ]
  },
  {
   "cell_type": "markdown",
   "id": "6a6a7401-14c5-451d-b565-9ab82108e836",
   "metadata": {},
   "source": [
    "##### In keyword arguments (kwargs) all the parameters are in the form of key value pairs"
   ]
  },
  {
   "cell_type": "code",
   "execution_count": 10,
   "id": "3c7b5896-cc8c-4ac8-b436-f94b7a4c8cc0",
   "metadata": {},
   "outputs": [],
   "source": [
    "def print_details(**mars):\n",
    "    for i,j in mars.items():\n",
    "        print(i,j)"
   ]
  },
  {
   "cell_type": "code",
   "execution_count": 11,
   "id": "97f79704-c419-4106-9163-ccefc8c59ff8",
   "metadata": {},
   "outputs": [
    {
     "name": "stdout",
     "output_type": "stream",
     "text": [
      "name Krish\n",
      "age 24\n",
      "desc Poland\n"
     ]
    }
   ],
   "source": [
    "print_details(name=\"Krish\",age=\"24\",desc=\"Poland\")"
   ]
  },
  {
   "cell_type": "markdown",
   "id": "dbf9dedd-4a6c-4bef-b762-a0fedc959bcd",
   "metadata": {},
   "source": [
    "### If you are using both positional as well as keyword arguments, positional arguments should always come before keyword arguments"
   ]
  },
  {
   "cell_type": "code",
   "execution_count": 16,
   "id": "bef636b7-4013-4298-85cc-046570c72aa5",
   "metadata": {},
   "outputs": [],
   "source": [
    "def print_this(*args,**kwargs):\n",
    "    for val in args:\n",
    "        print(f'positional arguments =',val)\n",
    "    for key,value in kwargs.items():\n",
    "        print(f'keyword arguments =',key,value)"
   ]
  },
  {
   "cell_type": "code",
   "execution_count": 20,
   "id": "9ede20c3-74ed-4a07-b295-b7787c1e0478",
   "metadata": {},
   "outputs": [
    {
     "name": "stdout",
     "output_type": "stream",
     "text": [
      "positional arguments = a\n",
      "positional arguments = b\n",
      "positional arguments = 1\n",
      "positional arguments = 2\n",
      "positional arguments = 3\n",
      "positional arguments = 4\n",
      "keyword arguments = b 20\n",
      "keyword arguments = c 30\n",
      "keyword arguments = d 50\n"
     ]
    }
   ],
   "source": [
    "print_this('a','b',1,2,3,4,b=20,c=30,d=50)"
   ]
  },
  {
   "cell_type": "markdown",
   "id": "75aca0e0-0a70-4ece-93e3-f204954af5d0",
   "metadata": {},
   "source": [
    "### Return statement "
   ]
  },
  {
   "cell_type": "markdown",
   "id": "09a40bc3-45ab-43d5-baea-69eda53e327c",
   "metadata": {},
   "source": [
    "##### In python we can return multiple values which will be returned in the form of tuples"
   ]
  },
  {
   "cell_type": "code",
   "execution_count": 21,
   "id": "efb14fec-4b5b-4289-b814-234fcc64146a",
   "metadata": {},
   "outputs": [],
   "source": [
    "def multiply(a,b):\n",
    "    return a*b,a"
   ]
  },
  {
   "cell_type": "code",
   "execution_count": 22,
   "id": "57a771b8-c7ab-4c20-ac9d-b65d6a2f0ae0",
   "metadata": {},
   "outputs": [],
   "source": [
    "mul,a=multiply(5,6)"
   ]
  },
  {
   "cell_type": "code",
   "execution_count": 24,
   "id": "64b6c4c8-6815-4770-bfe4-efe605ba1c7b",
   "metadata": {},
   "outputs": [
    {
     "data": {
      "text/plain": [
       "(30, 5)"
      ]
     },
     "execution_count": 24,
     "metadata": {},
     "output_type": "execute_result"
    }
   ],
   "source": [
    "mul,a"
   ]
  },
  {
   "cell_type": "code",
   "execution_count": null,
   "id": "5f72a8e3-55db-4ff0-baac-83b5a082d89c",
   "metadata": {},
   "outputs": [],
   "source": []
  }
 ],
 "metadata": {
  "kernelspec": {
   "display_name": "Python 3 (ipykernel)",
   "language": "python",
   "name": "python3"
  },
  "language_info": {
   "codemirror_mode": {
    "name": "ipython",
    "version": 3
   },
   "file_extension": ".py",
   "mimetype": "text/x-python",
   "name": "python",
   "nbconvert_exporter": "python",
   "pygments_lexer": "ipython3",
   "version": "3.11.7"
  }
 },
 "nbformat": 4,
 "nbformat_minor": 5
}
