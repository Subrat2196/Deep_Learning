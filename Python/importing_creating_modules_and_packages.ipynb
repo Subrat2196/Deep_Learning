{
 "cells": [
  {
   "cell_type": "markdown",
   "id": "a799fc20",
   "metadata": {},
   "source": [
    "### importing predefined packages"
   ]
  },
  {
   "cell_type": "code",
   "execution_count": 1,
   "id": "ec5be7ef-a6a4-40d7-8c64-f06911acde19",
   "metadata": {},
   "outputs": [],
   "source": [
    "import math"
   ]
  },
  {
   "cell_type": "code",
   "execution_count": 5,
   "id": "f81cb78a-9135-47d3-bc4e-fefe8f0f46b5",
   "metadata": {},
   "outputs": [
    {
     "data": {
      "text/plain": [
       "3.1622776601683795"
      ]
     },
     "execution_count": 5,
     "metadata": {},
     "output_type": "execute_result"
    }
   ],
   "source": [
    "a = math.sqrt(10)\n",
    "a"
   ]
  },
  {
   "cell_type": "code",
   "execution_count": 6,
   "id": "0444d5f8-b888-433d-9e0c-4bb7e2b19ca7",
   "metadata": {},
   "outputs": [],
   "source": [
    "from math import sqrt,pi"
   ]
  },
  {
   "cell_type": "code",
   "execution_count": 7,
   "id": "ec28b401-5a97-443f-8e02-ff06d8fc317a",
   "metadata": {},
   "outputs": [
    {
     "name": "stdout",
     "output_type": "stream",
     "text": [
      "4.0\n"
     ]
    }
   ],
   "source": [
    "print(sqrt(16))"
   ]
  },
  {
   "cell_type": "markdown",
   "id": "9175cfd1",
   "metadata": {},
   "source": [
    "### Creating custom packages "
   ]
  },
  {
   "cell_type": "code",
   "execution_count": 14,
   "id": "e6cab1fe",
   "metadata": {},
   "outputs": [
    {
     "data": {
      "text/plain": [
       "'\\n    use __init__.py file inside a folder to make it a module\\n'"
      ]
     },
     "execution_count": 14,
     "metadata": {},
     "output_type": "execute_result"
    }
   ],
   "source": [
    "'''\n",
    "    use __init__.py file inside a folder to make it a module\n",
    "'''"
   ]
  },
  {
   "cell_type": "markdown",
   "id": "af3d5d85-eebb-4086-a8bc-4fb771818cbf",
   "metadata": {},
   "source": [
    "### Importing from custom packages"
   ]
  },
  {
   "cell_type": "code",
   "execution_count": 9,
   "id": "8b336749",
   "metadata": {},
   "outputs": [],
   "source": [
    "from custom_package import maths"
   ]
  },
  {
   "cell_type": "code",
   "execution_count": 11,
   "id": "b6096ac0",
   "metadata": {},
   "outputs": [
    {
     "data": {
      "text/plain": [
       "7"
      ]
     },
     "execution_count": 11,
     "metadata": {},
     "output_type": "execute_result"
    }
   ],
   "source": [
    "maths.addition(3,4)"
   ]
  },
  {
   "cell_type": "code",
   "execution_count": 15,
   "id": "b0036791",
   "metadata": {},
   "outputs": [],
   "source": [
    "from custom_package.maths import addition"
   ]
  },
  {
   "cell_type": "code",
   "execution_count": 16,
   "id": "d3c9b315",
   "metadata": {},
   "outputs": [
    {
     "data": {
      "text/plain": [
       "15"
      ]
     },
     "execution_count": 16,
     "metadata": {},
     "output_type": "execute_result"
    }
   ],
   "source": [
    "addition(5,10)"
   ]
  },
  {
   "cell_type": "code",
   "execution_count": null,
   "id": "56c1e2ca",
   "metadata": {},
   "outputs": [],
   "source": []
  }
 ],
 "metadata": {
  "kernelspec": {
   "display_name": "Python 3 (ipykernel)",
   "language": "python",
   "name": "python3"
  },
  "language_info": {
   "codemirror_mode": {
    "name": "ipython",
    "version": 3
   },
   "file_extension": ".py",
   "mimetype": "text/x-python",
   "name": "python",
   "nbconvert_exporter": "python",
   "pygments_lexer": "ipython3",
   "version": "3.11.7"
  }
 },
 "nbformat": 4,
 "nbformat_minor": 5
}
