{
 "cells": [
  {
   "cell_type": "code",
   "execution_count": 1,
   "id": "729a2c5e-2503-4e51-9c1f-f8f8d492aba5",
   "metadata": {},
   "outputs": [
    {
     "ename": "NameError",
     "evalue": "name 'a' is not defined",
     "output_type": "error",
     "traceback": [
      "\u001b[1;31m---------------------------------------------------------------------------\u001b[0m",
      "\u001b[1;31mNameError\u001b[0m                                 Traceback (most recent call last)",
      "Cell \u001b[1;32mIn[1], line 3\u001b[0m\n\u001b[0;32m      1\u001b[0m \u001b[38;5;124;03m''' Here a=5 \u001b[39;00m\n\u001b[0;32m      2\u001b[0m \u001b[38;5;124;03mand c = 10 '''\u001b[39;00m\n\u001b[1;32m----> 3\u001b[0m a,c\n",
      "\u001b[1;31mNameError\u001b[0m: name 'a' is not defined"
     ]
    }
   ],
   "source": [
    "''' Here a=5 \n",
    "and c = 10 '''\n",
    "a,c"
   ]
  },
  {
   "cell_type": "code",
   "execution_count": null,
   "id": "0382cf1e-797d-40f5-96b0-a23d29495f4d",
   "metadata": {},
   "outputs": [],
   "source": [
    "age = 32\n",
    "if age>30:\n",
    "    print('more than 30 since age =',age)\n",
    "else:\n",
    "    print('less than 30 since age=',age)"
   ]
  },
  {
   "cell_type": "code",
   "execution_count": null,
   "id": "e8a390df-5fc5-44ca-a16a-79fc9c6f5c9e",
   "metadata": {},
   "outputs": [],
   "source": [
    "sum = 1+2+3+4+5+\\\n",
    "6+7+8\n",
    "print(sum)"
   ]
  },
  {
   "cell_type": "code",
   "execution_count": null,
   "id": "d389ef40-fdb9-4f2d-a001-5b85ede2251e",
   "metadata": {},
   "outputs": [],
   "source": [
    "x=5;y=10;z=x+y;z"
   ]
  },
  {
   "cell_type": "code",
   "execution_count": 2,
   "id": "bf26d5d8-2d0d-4764-aa6d-656d6c06a926",
   "metadata": {},
   "outputs": [
    {
     "name": "stdin",
     "output_type": "stream",
     "text": [
      "Enter your age  \n"
     ]
    },
    {
     "name": "stdout",
     "output_type": "stream",
     "text": [
      "the age is \n"
     ]
    }
   ],
   "source": [
    "age = input('Enter your age ')\n",
    "print(f'the age is {age}')"
   ]
  },
  {
   "cell_type": "markdown",
   "id": "517af09c-a05d-481e-a5b8-166d5bd58f41",
   "metadata": {},
   "source": [
    "## Special Operations in Python"
   ]
  },
  {
   "cell_type": "markdown",
   "id": "7d8eb898-f1e6-4a74-9d3d-8b8ed106b918",
   "metadata": {},
   "source": [
    "#### 1. Floor Division"
   ]
  },
  {
   "cell_type": "code",
   "execution_count": 3,
   "id": "90ca0b13-f0cf-4534-bbf0-1aa1b0e017a7",
   "metadata": {},
   "outputs": [
    {
     "data": {
      "text/plain": [
       "1"
      ]
     },
     "execution_count": 3,
     "metadata": {},
     "output_type": "execute_result"
    }
   ],
   "source": [
    "a =15;b=20;b//a"
   ]
  },
  {
   "cell_type": "markdown",
   "id": "f8542e74-3da4-477c-a61c-a818af5b6b08",
   "metadata": {},
   "source": [
    "#### 2. String comparison"
   ]
  },
  {
   "cell_type": "code",
   "execution_count": 4,
   "id": "28f953fa-2929-407c-8f82-eda34283d767",
   "metadata": {},
   "outputs": [
    {
     "name": "stdout",
     "output_type": "stream",
     "text": [
      "False\n"
     ]
    }
   ],
   "source": [
    "str1 = 'Hello'\n",
    "str2 = 'hello'\n",
    "print(str1>str2)  # ASCII comparison"
   ]
  },
  {
   "cell_type": "markdown",
   "id": "d8e41eaf-1149-4aab-a242-0d89a923f85d",
   "metadata": {},
   "source": [
    "#### 3. Logical Operators"
   ]
  },
  {
   "cell_type": "code",
   "execution_count": 5,
   "id": "a83ff305-bc3e-4a34-9360-90f0b008cf82",
   "metadata": {},
   "outputs": [
    {
     "data": {
      "text/plain": [
       "False"
      ]
     },
     "execution_count": 5,
     "metadata": {},
     "output_type": "execute_result"
    }
   ],
   "source": [
    "a = True\n",
    "b = False\n",
    "a and b"
   ]
  },
  {
   "cell_type": "code",
   "execution_count": 6,
   "id": "1425b6e7-cae9-497c-bcb4-ffdf85d4b150",
   "metadata": {},
   "outputs": [
    {
     "data": {
      "text/plain": [
       "False"
      ]
     },
     "execution_count": 6,
     "metadata": {},
     "output_type": "execute_result"
    }
   ],
   "source": [
    "a & b  "
   ]
  },
  {
   "cell_type": "markdown",
   "id": "78d2015e-abda-4e71-aa1c-c40690644916",
   "metadata": {},
   "source": [
    "#### and , & are not the same, since and is logical AND operator whereas & is bitwise AND operator"
   ]
  },
  {
   "cell_type": "markdown",
   "id": "2bf50497-bf9e-422b-9e16-720be6d2a6dd",
   "metadata": {},
   "source": [
    "## 4. Loops"
   ]
  },
  {
   "cell_type": "markdown",
   "id": "eaa744e1-db41-4088-8924-8d5836139bd1",
   "metadata": {},
   "source": [
    "###  1. for loop"
   ]
  },
  {
   "cell_type": "code",
   "execution_count": 7,
   "id": "6a8f53ee-8bef-43f9-ae6e-babdbc3f1339",
   "metadata": {},
   "outputs": [
    {
     "name": "stdout",
     "output_type": "stream",
     "text": [
      "1\n",
      "3\n",
      "5\n",
      "7\n",
      "9\n",
      "11\n",
      "13\n",
      "15\n",
      "17\n",
      "19\n"
     ]
    }
   ],
   "source": [
    "for i in range(1,20,2):\n",
    "    print(i)"
   ]
  },
  {
   "cell_type": "code",
   "execution_count": 8,
   "id": "8ebce5ec-8a0a-4359-9c6d-86d4760c722a",
   "metadata": {},
   "outputs": [
    {
     "name": "stdout",
     "output_type": "stream",
     "text": [
      "10\n",
      "9\n",
      "8\n",
      "7\n",
      "6\n",
      "5\n",
      "4\n",
      "3\n",
      "2\n"
     ]
    }
   ],
   "source": [
    "for i in range(10,1,-1):\n",
    "    print(i)"
   ]
  },
  {
   "cell_type": "markdown",
   "id": "547f0fcd-555d-47ed-893f-909a5434efb0",
   "metadata": {},
   "source": [
    "### break, continue and pass"
   ]
  },
  {
   "cell_type": "code",
   "execution_count": 10,
   "id": "b25609cb-3afe-42b6-9c71-69401c414e1e",
   "metadata": {},
   "outputs": [
    {
     "name": "stdout",
     "output_type": "stream",
     "text": [
      "0\n",
      "1\n",
      "2\n"
     ]
    }
   ],
   "source": [
    "for i in range(5):\n",
    "    if i==3:\n",
    "        break;\n",
    "    print(i)"
   ]
  },
  {
   "cell_type": "code",
   "execution_count": 11,
   "id": "c63490e3-ac56-41fd-824d-c166ed6af26f",
   "metadata": {},
   "outputs": [
    {
     "name": "stdout",
     "output_type": "stream",
     "text": [
      "0\n",
      "1\n",
      "2\n",
      "4\n"
     ]
    }
   ],
   "source": [
    "for i in range(5):\n",
    "    if i==3:\n",
    "        continue;\n",
    "    print(i)"
   ]
  },
  {
   "cell_type": "code",
   "execution_count": 12,
   "id": "a8c50e51-75d3-48a9-9bbe-605e33a9b588",
   "metadata": {},
   "outputs": [
    {
     "name": "stdout",
     "output_type": "stream",
     "text": [
      "0\n",
      "1\n",
      "2\n",
      "3\n",
      "4\n"
     ]
    }
   ],
   "source": [
    "for i in range(5):\n",
    "    if i==3:\n",
    "        pass;\n",
    "    print(i)"
   ]
  },
  {
   "cell_type": "markdown",
   "id": "c0d4d112-ef37-46f2-867f-5f4459e88e69",
   "metadata": {},
   "source": [
    "##### pass is like do nothing"
   ]
  },
  {
   "cell_type": "markdown",
   "id": "fef7b5ab-3404-45d3-8877-2f84b2d053e7",
   "metadata": {},
   "source": [
    "# Lists"
   ]
  },
  {
   "cell_type": "code",
   "execution_count": 13,
   "id": "c5069416-6755-4eff-81fe-02c3c0293f72",
   "metadata": {},
   "outputs": [],
   "source": [
    "a = [1,2,3,4,5]"
   ]
  },
  {
   "cell_type": "code",
   "execution_count": 14,
   "id": "c85749e2-4015-4b0d-934d-c8cc33955e72",
   "metadata": {},
   "outputs": [
    {
     "data": {
      "text/plain": [
       "3"
      ]
     },
     "execution_count": 14,
     "metadata": {},
     "output_type": "execute_result"
    }
   ],
   "source": [
    "a[2]"
   ]
  },
  {
   "cell_type": "code",
   "execution_count": 16,
   "id": "75774f3a-e899-43c8-b9dc-f06442847ac4",
   "metadata": {},
   "outputs": [
    {
     "data": {
      "text/plain": [
       "[3, 4, 5]"
      ]
     },
     "execution_count": 16,
     "metadata": {},
     "output_type": "execute_result"
    }
   ],
   "source": [
    "a[2:5]"
   ]
  },
  {
   "cell_type": "code",
   "execution_count": 17,
   "id": "22b8fa8f-8093-43ca-8642-8ce549418ce6",
   "metadata": {},
   "outputs": [
    {
     "data": {
      "text/plain": [
       "[5, 4, 3, 2, 1]"
      ]
     },
     "execution_count": 17,
     "metadata": {},
     "output_type": "execute_result"
    }
   ],
   "source": [
    "a[::-1]"
   ]
  },
  {
   "cell_type": "code",
   "execution_count": 18,
   "id": "f36bc8d1-c611-411a-af6f-1b82157efe5b",
   "metadata": {},
   "outputs": [
    {
     "data": {
      "text/plain": [
       "5"
      ]
     },
     "execution_count": 18,
     "metadata": {},
     "output_type": "execute_result"
    }
   ],
   "source": [
    "a[-1]"
   ]
  },
  {
   "cell_type": "code",
   "execution_count": 23,
   "id": "778203ff-252b-4d8d-ab4a-f239950b62fa",
   "metadata": {},
   "outputs": [
    {
     "data": {
      "text/plain": [
       "[2, 3, 4, 5]"
      ]
     },
     "execution_count": 23,
     "metadata": {},
     "output_type": "execute_result"
    }
   ],
   "source": [
    "a[1::1]"
   ]
  },
  {
   "cell_type": "code",
   "execution_count": 24,
   "id": "86a30606-95fb-4058-8138-fbc969dd02d3",
   "metadata": {},
   "outputs": [
    {
     "data": {
      "text/plain": [
       "[5]"
      ]
     },
     "execution_count": 24,
     "metadata": {},
     "output_type": "execute_result"
    }
   ],
   "source": [
    "a[-1::1]"
   ]
  },
  {
   "cell_type": "code",
   "execution_count": 25,
   "id": "ebb3b50a-e45d-46b4-b667-6a1e3d418dfb",
   "metadata": {},
   "outputs": [
    {
     "data": {
      "text/plain": [
       "[]"
      ]
     },
     "execution_count": 25,
     "metadata": {},
     "output_type": "execute_result"
    }
   ],
   "source": [
    "a[-1:2:1]"
   ]
  },
  {
   "cell_type": "code",
   "execution_count": 26,
   "id": "376ad68f-6bd0-4e19-be83-c663c2e134df",
   "metadata": {},
   "outputs": [
    {
     "data": {
      "text/plain": [
       "[5, 4]"
      ]
     },
     "execution_count": 26,
     "metadata": {},
     "output_type": "execute_result"
    }
   ],
   "source": [
    "a[-1:2:-1]"
   ]
  },
  {
   "cell_type": "code",
   "execution_count": 27,
   "id": "b4d5e6ce-a9b5-4cba-804d-7b38ce1c04b0",
   "metadata": {},
   "outputs": [
    {
     "data": {
      "text/plain": [
       "[1, 2, 3, 4, 5]"
      ]
     },
     "execution_count": 27,
     "metadata": {},
     "output_type": "execute_result"
    }
   ],
   "source": [
    "a"
   ]
  },
  {
   "cell_type": "code",
   "execution_count": 28,
   "id": "367e0975-7963-4edd-a3a3-c1e8dac4506d",
   "metadata": {},
   "outputs": [
    {
     "data": {
      "text/plain": [
       "[]"
      ]
     },
     "execution_count": 28,
     "metadata": {},
     "output_type": "execute_result"
    }
   ],
   "source": [
    "a[-1:-3:1]"
   ]
  },
  {
   "cell_type": "code",
   "execution_count": 29,
   "id": "0206b388-fa61-481a-9164-05f23b0e36c9",
   "metadata": {},
   "outputs": [
    {
     "data": {
      "text/plain": [
       "[5, 4]"
      ]
     },
     "execution_count": 29,
     "metadata": {},
     "output_type": "execute_result"
    }
   ],
   "source": [
    "a[-1:-3:-1]"
   ]
  },
  {
   "cell_type": "code",
   "execution_count": 31,
   "id": "d3563ded-2ba1-4860-8d09-5a6bf6203a08",
   "metadata": {},
   "outputs": [
    {
     "data": {
      "text/plain": [
       "[]"
      ]
     },
     "execution_count": 31,
     "metadata": {},
     "output_type": "execute_result"
    }
   ],
   "source": [
    "a[-3:-1:-1]"
   ]
  },
  {
   "cell_type": "code",
   "execution_count": 33,
   "id": "042bddbb-1cd8-43ae-bf5d-b658c4d38b6e",
   "metadata": {},
   "outputs": [
    {
     "data": {
      "text/plain": [
       "['banana', 'mango', 'pineapple', 'peach', 'guava', 'blueberry']"
      ]
     },
     "execution_count": 33,
     "metadata": {},
     "output_type": "execute_result"
    }
   ],
   "source": [
    "fruits = ['apple','banana','mango','pineapple','peach','guava','blueberry']\n",
    "fruits[1:]"
   ]
  },
  {
   "cell_type": "code",
   "execution_count": 34,
   "id": "b5b9fdb1-8c78-497c-b9d1-1275c9776a49",
   "metadata": {},
   "outputs": [],
   "source": [
    "fruits[5:]='burberry' "
   ]
  },
  {
   "cell_type": "code",
   "execution_count": 35,
   "id": "81887a77-3e45-47d8-88ae-ead1bb6085fe",
   "metadata": {},
   "outputs": [
    {
     "data": {
      "text/plain": [
       "['apple',\n",
       " 'banana',\n",
       " 'mango',\n",
       " 'pineapple',\n",
       " 'peach',\n",
       " 'b',\n",
       " 'u',\n",
       " 'r',\n",
       " 'b',\n",
       " 'e',\n",
       " 'r',\n",
       " 'r',\n",
       " 'y']"
      ]
     },
     "execution_count": 35,
     "metadata": {},
     "output_type": "execute_result"
    }
   ],
   "source": [
    "fruits"
   ]
  },
  {
   "cell_type": "markdown",
   "id": "494a3065-4788-4729-98f9-4943e0423432",
   "metadata": {},
   "source": [
    "### Here this is happening because slice is a list , whereas 'burberry' is a string iterable"
   ]
  },
  {
   "cell_type": "code",
   "execution_count": 36,
   "id": "4ef8dd0b-8aca-4a7d-be14-98fce52dd7fd",
   "metadata": {},
   "outputs": [
    {
     "data": {
      "text/plain": [
       "['apple',\n",
       " 'banana',\n",
       " 'mango',\n",
       " 'pineapple',\n",
       " 'peach',\n",
       " 'b',\n",
       " 'u',\n",
       " 'r',\n",
       " 'b',\n",
       " 'e',\n",
       " 'r',\n",
       " 'r',\n",
       " 'y']"
      ]
     },
     "execution_count": 36,
     "metadata": {},
     "output_type": "execute_result"
    }
   ],
   "source": [
    "fruits"
   ]
  },
  {
   "cell_type": "code",
   "execution_count": 38,
   "id": "ee00c029-10da-4beb-aaf3-5a01f2edbba5",
   "metadata": {},
   "outputs": [],
   "source": [
    "fruits.remove('b')"
   ]
  },
  {
   "cell_type": "code",
   "execution_count": 39,
   "id": "7f410c37-3944-48ab-a2e5-57691e684761",
   "metadata": {},
   "outputs": [
    {
     "data": {
      "text/plain": [
       "['apple',\n",
       " 'banana',\n",
       " 'mango',\n",
       " 'pineapple',\n",
       " 'peach',\n",
       " 'u',\n",
       " 'r',\n",
       " 'b',\n",
       " 'e',\n",
       " 'r',\n",
       " 'r',\n",
       " 'y']"
      ]
     },
     "execution_count": 39,
     "metadata": {},
     "output_type": "execute_result"
    }
   ],
   "source": [
    "fruits"
   ]
  },
  {
   "cell_type": "code",
   "execution_count": 42,
   "id": "978a9b76-1560-4be7-815d-b2329bdfdd0a",
   "metadata": {},
   "outputs": [],
   "source": [
    "fruits.pop();fruits.pop();fruits.pop();fruits.pop();fruits.pop();"
   ]
  },
  {
   "cell_type": "code",
   "execution_count": 44,
   "id": "5d6c3f5b-9f00-4b26-afb8-4b8e599b70d1",
   "metadata": {},
   "outputs": [
    {
     "data": {
      "text/plain": [
       "'u'"
      ]
     },
     "execution_count": 44,
     "metadata": {},
     "output_type": "execute_result"
    }
   ],
   "source": [
    "fruits.pop()"
   ]
  },
  {
   "cell_type": "code",
   "execution_count": 45,
   "id": "79791d8e-fd48-49bc-8ce0-edb908e2235d",
   "metadata": {},
   "outputs": [
    {
     "data": {
      "text/plain": [
       "['apple', 'banana', 'mango', 'pineapple', 'peach']"
      ]
     },
     "execution_count": 45,
     "metadata": {},
     "output_type": "execute_result"
    }
   ],
   "source": [
    "fruits"
   ]
  },
  {
   "cell_type": "code",
   "execution_count": 46,
   "id": "f683519c-34d5-42f8-a561-08b6ab447ea8",
   "metadata": {},
   "outputs": [],
   "source": [
    "fruits[5:]=['MuskMelon']"
   ]
  },
  {
   "cell_type": "code",
   "execution_count": 47,
   "id": "8ff2a929-555b-4ec2-af86-eab3a86f9ff2",
   "metadata": {},
   "outputs": [
    {
     "data": {
      "text/plain": [
       "['apple', 'banana', 'mango', 'pineapple', 'peach', 'MuskMelon']"
      ]
     },
     "execution_count": 47,
     "metadata": {},
     "output_type": "execute_result"
    }
   ],
   "source": [
    "fruits"
   ]
  },
  {
   "cell_type": "markdown",
   "id": "df77afb6-22b7-4567-b504-90210d7314ad",
   "metadata": {},
   "source": [
    "## List Methods"
   ]
  },
  {
   "cell_type": "markdown",
   "id": "bb6d3810-fa2b-4dee-ae07-686dfc3aaa7a",
   "metadata": {},
   "source": [
    "#### append()"
   ]
  },
  {
   "cell_type": "code",
   "execution_count": 48,
   "id": "6e6f3e79-0ac6-4c72-b928-0e7826b5c508",
   "metadata": {},
   "outputs": [],
   "source": [
    "fruits.append('BlueBerry')"
   ]
  },
  {
   "cell_type": "code",
   "execution_count": 49,
   "id": "78422dff-28af-4a5f-82ea-a94273b28b43",
   "metadata": {},
   "outputs": [
    {
     "data": {
      "text/plain": [
       "['apple', 'banana', 'mango', 'pineapple', 'peach', 'MuskMelon', 'BlueBerry']"
      ]
     },
     "execution_count": 49,
     "metadata": {},
     "output_type": "execute_result"
    }
   ],
   "source": [
    "fruits"
   ]
  },
  {
   "cell_type": "markdown",
   "id": "26d44594-a3a3-42ba-983a-0fce49f3af18",
   "metadata": {},
   "source": [
    "#### insert()"
   ]
  },
  {
   "cell_type": "code",
   "execution_count": 50,
   "id": "e85b657e-70d3-4b15-b9f9-f7b5ed47685a",
   "metadata": {},
   "outputs": [],
   "source": [
    "fruits.insert(3,'Watermelon')"
   ]
  },
  {
   "cell_type": "code",
   "execution_count": 51,
   "id": "b68b4d15-ce81-4bf9-9201-7e59555902a1",
   "metadata": {},
   "outputs": [
    {
     "data": {
      "text/plain": [
       "['apple',\n",
       " 'banana',\n",
       " 'mango',\n",
       " 'Watermelon',\n",
       " 'pineapple',\n",
       " 'peach',\n",
       " 'MuskMelon',\n",
       " 'BlueBerry']"
      ]
     },
     "execution_count": 51,
     "metadata": {},
     "output_type": "execute_result"
    }
   ],
   "source": [
    "fruits"
   ]
  },
  {
   "cell_type": "markdown",
   "id": "34072c33-632c-4421-a94c-27761d98cab0",
   "metadata": {},
   "source": [
    "#### extend"
   ]
  },
  {
   "cell_type": "code",
   "execution_count": 52,
   "id": "566e8750-3e06-4328-a336-adc609b3aa61",
   "metadata": {},
   "outputs": [],
   "source": [
    "fruits.extend(['Orange','GrapeFruit'])"
   ]
  },
  {
   "cell_type": "code",
   "execution_count": 53,
   "id": "41b4bc45-7b18-46ad-8861-c5369194384d",
   "metadata": {},
   "outputs": [
    {
     "data": {
      "text/plain": [
       "['apple',\n",
       " 'banana',\n",
       " 'mango',\n",
       " 'Watermelon',\n",
       " 'pineapple',\n",
       " 'peach',\n",
       " 'MuskMelon',\n",
       " 'BlueBerry',\n",
       " 'Orange',\n",
       " 'GrapeFruit']"
      ]
     },
     "execution_count": 53,
     "metadata": {},
     "output_type": "execute_result"
    }
   ],
   "source": [
    "fruits"
   ]
  },
  {
   "cell_type": "markdown",
   "id": "fe5734ad-67ae-4d5a-9b2c-e5ed740d5072",
   "metadata": {},
   "source": [
    "#### remove"
   ]
  },
  {
   "cell_type": "code",
   "execution_count": 54,
   "id": "d80842b4-18c6-43ce-8f6a-77b7997d8b07",
   "metadata": {},
   "outputs": [],
   "source": [
    "fruits.append('banana')"
   ]
  },
  {
   "cell_type": "code",
   "execution_count": 55,
   "id": "64698650-1c3c-48bf-9f8b-0fc74114216a",
   "metadata": {},
   "outputs": [],
   "source": [
    "fruits.remove('banana')"
   ]
  },
  {
   "cell_type": "code",
   "execution_count": 56,
   "id": "65dc6ac7-adb0-4e7d-b254-db372160cbfa",
   "metadata": {},
   "outputs": [
    {
     "data": {
      "text/plain": [
       "['apple',\n",
       " 'mango',\n",
       " 'Watermelon',\n",
       " 'pineapple',\n",
       " 'peach',\n",
       " 'MuskMelon',\n",
       " 'BlueBerry',\n",
       " 'Orange',\n",
       " 'GrapeFruit',\n",
       " 'banana']"
      ]
     },
     "execution_count": 56,
     "metadata": {},
     "output_type": "execute_result"
    }
   ],
   "source": [
    "fruits"
   ]
  },
  {
   "cell_type": "markdown",
   "id": "3aac7596-8c66-475e-a861-1f87b2dba294",
   "metadata": {},
   "source": [
    "#### index"
   ]
  },
  {
   "cell_type": "code",
   "execution_count": 57,
   "id": "b85610d2-0bfd-4bc5-b924-d4e62c70302d",
   "metadata": {},
   "outputs": [
    {
     "data": {
      "text/plain": [
       "7"
      ]
     },
     "execution_count": 57,
     "metadata": {},
     "output_type": "execute_result"
    }
   ],
   "source": [
    "fruits.index('Orange')"
   ]
  },
  {
   "cell_type": "markdown",
   "id": "a4165dcf-3886-498f-a535-62ff818646a4",
   "metadata": {},
   "source": [
    "#### count"
   ]
  },
  {
   "cell_type": "code",
   "execution_count": 58,
   "id": "ca298a21-3a87-46d9-9bb9-349842b4007c",
   "metadata": {},
   "outputs": [
    {
     "data": {
      "text/plain": [
       "1"
      ]
     },
     "execution_count": 58,
     "metadata": {},
     "output_type": "execute_result"
    }
   ],
   "source": [
    "fruits.count('banana')"
   ]
  },
  {
   "cell_type": "markdown",
   "id": "6e1abf74-7607-4988-8210-3f42b9d50e3f",
   "metadata": {},
   "source": [
    "#### sort"
   ]
  },
  {
   "cell_type": "code",
   "execution_count": 59,
   "id": "d082de08-cec1-492a-a5da-440692f702d1",
   "metadata": {},
   "outputs": [],
   "source": [
    "fruits.sort()"
   ]
  },
  {
   "cell_type": "code",
   "execution_count": 60,
   "id": "67037c97-97b5-4a10-b59f-605e331a21a8",
   "metadata": {},
   "outputs": [
    {
     "data": {
      "text/plain": [
       "['BlueBerry',\n",
       " 'GrapeFruit',\n",
       " 'MuskMelon',\n",
       " 'Orange',\n",
       " 'Watermelon',\n",
       " 'apple',\n",
       " 'banana',\n",
       " 'mango',\n",
       " 'peach',\n",
       " 'pineapple']"
      ]
     },
     "execution_count": 60,
     "metadata": {},
     "output_type": "execute_result"
    }
   ],
   "source": [
    "fruits"
   ]
  },
  {
   "cell_type": "markdown",
   "id": "b88c87ee-906d-4a1f-a535-1cbb79b5c636",
   "metadata": {},
   "source": [
    "## enumerate  function"
   ]
  },
  {
   "cell_type": "code",
   "execution_count": 64,
   "id": "dd1638bb-73de-42f6-aee8-536701a629f9",
   "metadata": {},
   "outputs": [
    {
     "name": "stdout",
     "output_type": "stream",
     "text": [
      "0 BlueBerry\n",
      "1 GrapeFruit\n",
      "2 MuskMelon\n",
      "3 Orange\n",
      "4 Watermelon\n",
      "5 apple\n",
      "6 banana\n",
      "7 mango\n",
      "8 peach\n",
      "9 pineapple\n"
     ]
    }
   ],
   "source": [
    "for index,f in enumerate(fruits):  # used in list since it gives a tuple of (index , element)\n",
    "    print(index,f)"
   ]
  },
  {
   "cell_type": "code",
   "execution_count": 73,
   "id": "0b6ee31c-fd19-48ab-8062-37e8477ff900",
   "metadata": {},
   "outputs": [
    {
     "data": {
      "text/plain": [
       "((1, 'Burberry'), (2, 'mango'), (3, 'Pineapple'))"
      ]
     },
     "execution_count": 73,
     "metadata": {},
     "output_type": "execute_result"
    }
   ],
   "source": [
    "t = ((1,'Burberry'),(2,'mango'),(3,'Pineapple'))\n",
    "t"
   ]
  },
  {
   "cell_type": "code",
   "execution_count": 74,
   "id": "1bf9867f-b99c-4c3b-82b4-2616ef13106e",
   "metadata": {},
   "outputs": [
    {
     "name": "stdout",
     "output_type": "stream",
     "text": [
      "1 Burberry\n",
      "2 mango\n",
      "3 Pineapple\n"
     ]
    }
   ],
   "source": [
    "for idx,value in t:\n",
    "    print(idx,value)"
   ]
  },
  {
   "cell_type": "markdown",
   "id": "b06a3e4b-0a99-46f9-b1c4-f1218b5b0028",
   "metadata": {},
   "source": [
    "## List Comprehension"
   ]
  },
  {
   "cell_type": "code",
   "execution_count": 75,
   "id": "2c8a4763-6fb8-4add-ba4e-3df8c804ca03",
   "metadata": {},
   "outputs": [
    {
     "name": "stdout",
     "output_type": "stream",
     "text": [
      "[0, 1, 4, 9, 16, 25, 36, 49, 64, 81]\n"
     ]
    }
   ],
   "source": [
    "lst=[]\n",
    "for x in range(10):\n",
    "    lst.append(x**2)\n",
    "print(lst)"
   ]
  },
  {
   "cell_type": "markdown",
   "id": "dc48610f-3d3e-463b-9853-686a58e9d9af",
   "metadata": {},
   "source": [
    "#### we can write the above expression using list comprehension as :-"
   ]
  },
  {
   "cell_type": "code",
   "execution_count": 76,
   "id": "964f361a-597b-4aa8-96d5-c90ba19bc892",
   "metadata": {},
   "outputs": [
    {
     "data": {
      "text/plain": [
       "[0, 1, 4, 9, 16, 25, 36, 49, 64, 81]"
      ]
     },
     "execution_count": 76,
     "metadata": {},
     "output_type": "execute_result"
    }
   ],
   "source": [
    "[x**2 for x in range(10)]"
   ]
  },
  {
   "cell_type": "markdown",
   "id": "9ec80626-9059-48b1-a0ef-6f09896376dc",
   "metadata": {},
   "source": [
    "### Basic Syntax"
   ]
  },
  {
   "cell_type": "markdown",
   "id": "373ad4fa-6991-40b8-af74-44a2a1f6d9b9",
   "metadata": {},
   "source": [
    "Syntax -> [expression  for item in iterable]\n",
    "\n",
    "With conditional logic -> [expression for item in iterable if condition]"
   ]
  },
  {
   "cell_type": "code",
   "execution_count": 77,
   "id": "5a61d4a8-7dbe-447b-84dc-d6e8717c35b8",
   "metadata": {},
   "outputs": [
    {
     "data": {
      "text/plain": [
       "[0, 2, 4, 6, 8]"
      ]
     },
     "execution_count": 77,
     "metadata": {},
     "output_type": "execute_result"
    }
   ],
   "source": [
    "[x for x in range(10) if x%2==0]"
   ]
  },
  {
   "cell_type": "markdown",
   "id": "dc2d12dc-1f70-4f27-a1de-34e6e436d9b1",
   "metadata": {},
   "source": [
    "## Nested List Comprehension"
   ]
  },
  {
   "cell_type": "markdown",
   "id": "2ece4c1f-4508-466d-a0c0-c9d07deeecd4",
   "metadata": {},
   "source": [
    "##### let's say we need to create list such that it is a combination of elements of 2 lists , like [list1_element,list2_element]"
   ]
  },
  {
   "cell_type": "code",
   "execution_count": 79,
   "id": "d821b45c-79e5-4fae-9343-cae8e54d01a3",
   "metadata": {},
   "outputs": [
    {
     "data": {
      "text/plain": [
       "[[1, 'a'],\n",
       " [1, 'b'],\n",
       " [1, 'c'],\n",
       " [1, 'd'],\n",
       " [1, 'e'],\n",
       " [2, 'a'],\n",
       " [2, 'b'],\n",
       " [2, 'c'],\n",
       " [2, 'd'],\n",
       " [2, 'e'],\n",
       " [3, 'a'],\n",
       " [3, 'b'],\n",
       " [3, 'c'],\n",
       " [3, 'd'],\n",
       " [3, 'e'],\n",
       " [4, 'a'],\n",
       " [4, 'b'],\n",
       " [4, 'c'],\n",
       " [4, 'd'],\n",
       " [4, 'e'],\n",
       " [5, 'a'],\n",
       " [5, 'b'],\n",
       " [5, 'c'],\n",
       " [5, 'd'],\n",
       " [5, 'e']]"
      ]
     },
     "execution_count": 79,
     "metadata": {},
     "output_type": "execute_result"
    }
   ],
   "source": [
    "list1 = [1,2,3,4,5]\n",
    "list2 = ['a','b','c','d','e']\n",
    "list3 = [[x,y] for x in list1 for y in list2]\n",
    "list3"
   ]
  },
  {
   "cell_type": "code",
   "execution_count": 80,
   "id": "fa911f71-2949-45e6-bdc3-6432b0f84e50",
   "metadata": {},
   "outputs": [],
   "source": [
    "list1 = [1,2,3,4,5]\n",
    "list2 = ['a','b','c','d','e']\n",
    "list3 = [[list1[i],list2[i]] for i in range(len(list1))]"
   ]
  },
  {
   "cell_type": "code",
   "execution_count": 81,
   "id": "766f044d-90de-4352-8bb7-4a44d24a69e1",
   "metadata": {},
   "outputs": [
    {
     "data": {
      "text/plain": [
       "[[1, 'a'], [2, 'b'], [3, 'c'], [4, 'd'], [5, 'e']]"
      ]
     },
     "execution_count": 81,
     "metadata": {},
     "output_type": "execute_result"
    }
   ],
   "source": [
    "list3"
   ]
  },
  {
   "cell_type": "markdown",
   "id": "ff691998-f0bb-4a60-99da-8d88a9c80f4c",
   "metadata": {},
   "source": [
    "### List Comprehension with in-built functions"
   ]
  },
  {
   "cell_type": "code",
   "execution_count": 82,
   "id": "b758b377-b6ac-49a3-9778-8008583cb279",
   "metadata": {},
   "outputs": [],
   "source": [
    "words = ['hello','there','my','name','is','subrat','bahuguna']\n",
    "lengths = [len(i) for i in words]"
   ]
  },
  {
   "cell_type": "code",
   "execution_count": 83,
   "id": "14963af4-d82a-43e1-ac93-0f6b780f66f0",
   "metadata": {},
   "outputs": [
    {
     "data": {
      "text/plain": [
       "[5, 5, 2, 4, 2, 6, 8]"
      ]
     },
     "execution_count": 83,
     "metadata": {},
     "output_type": "execute_result"
    }
   ],
   "source": [
    "lengths"
   ]
  },
  {
   "cell_type": "markdown",
   "id": "ec79d81d-c0f0-4328-ba4e-779d8baebc2a",
   "metadata": {},
   "source": [
    "# Tuple"
   ]
  },
  {
   "cell_type": "code",
   "execution_count": 84,
   "id": "06fb478e-9437-4f50-9ed5-404b8155a13e",
   "metadata": {},
   "outputs": [],
   "source": [
    "t = ()"
   ]
  },
  {
   "cell_type": "code",
   "execution_count": 88,
   "id": "dd500639-99e0-4fd4-a626-a89a50b14669",
   "metadata": {},
   "outputs": [
    {
     "data": {
      "text/plain": [
       "()"
      ]
     },
     "execution_count": 88,
     "metadata": {},
     "output_type": "execute_result"
    }
   ],
   "source": [
    "t"
   ]
  },
  {
   "cell_type": "code",
   "execution_count": 90,
   "id": "13f98437-0859-49ce-8040-7848832789a3",
   "metadata": {},
   "outputs": [
    {
     "data": {
      "text/plain": [
       "[1, 2, 3, 4, 5]"
      ]
     },
     "execution_count": 90,
     "metadata": {},
     "output_type": "execute_result"
    }
   ],
   "source": [
    "list1"
   ]
  },
  {
   "cell_type": "code",
   "execution_count": 93,
   "id": "0e7da2ac-ecdf-4c90-8df9-d79842485fce",
   "metadata": {},
   "outputs": [],
   "source": [
    "t1 = tuple(list1)"
   ]
  },
  {
   "cell_type": "code",
   "execution_count": 94,
   "id": "ee85387a-7135-44a3-8969-fb30d36d0bfd",
   "metadata": {},
   "outputs": [
    {
     "data": {
      "text/plain": [
       "(1, 2, 3, 4, 5)"
      ]
     },
     "execution_count": 94,
     "metadata": {},
     "output_type": "execute_result"
    }
   ],
   "source": [
    "t1"
   ]
  },
  {
   "cell_type": "markdown",
   "id": "2cfcd723-cdb1-4bde-984c-c87048c5ba20",
   "metadata": {},
   "source": [
    "### Tuple Operations"
   ]
  },
  {
   "cell_type": "markdown",
   "id": "24d876ea-350c-46f2-9a9f-1af5bbc326a8",
   "metadata": {},
   "source": [
    "#### Concatenation"
   ]
  },
  {
   "cell_type": "code",
   "execution_count": 95,
   "id": "6822e31b-9a11-44c5-8f38-f0dcb4b3ca30",
   "metadata": {},
   "outputs": [],
   "source": [
    "t2 = ('Hello',1,2,3)"
   ]
  },
  {
   "cell_type": "code",
   "execution_count": 97,
   "id": "8e0037ec-8c75-49d2-9ad7-2d57d0a06854",
   "metadata": {},
   "outputs": [
    {
     "data": {
      "text/plain": [
       "(1, 2, 3, 4, 5, 'Hello', 1, 2, 3)"
      ]
     },
     "execution_count": 97,
     "metadata": {},
     "output_type": "execute_result"
    }
   ],
   "source": [
    "t1+t2  # concatenation operation"
   ]
  },
  {
   "cell_type": "markdown",
   "id": "65535961-26b1-416a-9ec8-c5d44858d31d",
   "metadata": {},
   "source": [
    "### Scalar Multiplication is actually repetition in lists and tuples"
   ]
  },
  {
   "cell_type": "code",
   "execution_count": 98,
   "id": "a00e70ff-390d-4851-ae5c-fac60796f57c",
   "metadata": {},
   "outputs": [
    {
     "data": {
      "text/plain": [
       "(1, 2, 3, 4, 5)"
      ]
     },
     "execution_count": 98,
     "metadata": {},
     "output_type": "execute_result"
    }
   ],
   "source": [
    "t1"
   ]
  },
  {
   "cell_type": "code",
   "execution_count": 99,
   "id": "62ef8fd3-db4d-4cca-99bc-74577dc4ad11",
   "metadata": {},
   "outputs": [
    {
     "data": {
      "text/plain": [
       "(1, 2, 3, 4, 5, 1, 2, 3, 4, 5, 1, 2, 3, 4, 5)"
      ]
     },
     "execution_count": 99,
     "metadata": {},
     "output_type": "execute_result"
    }
   ],
   "source": [
    "t1 * 3"
   ]
  },
  {
   "cell_type": "code",
   "execution_count": 101,
   "id": "53c01a7b-0414-4a6f-bd08-c641cbd58059",
   "metadata": {},
   "outputs": [
    {
     "data": {
      "text/plain": [
       "[1, 2, 3, 4, 5]"
      ]
     },
     "execution_count": 101,
     "metadata": {},
     "output_type": "execute_result"
    }
   ],
   "source": [
    "list1"
   ]
  },
  {
   "cell_type": "code",
   "execution_count": 103,
   "id": "e5a22d76-2536-40fa-be3c-d529e670e50d",
   "metadata": {},
   "outputs": [
    {
     "data": {
      "text/plain": [
       "[1, 2, 3, 4, 5, 1, 2, 3, 4, 5, 1, 2, 3, 4, 5]"
      ]
     },
     "execution_count": 103,
     "metadata": {},
     "output_type": "execute_result"
    }
   ],
   "source": [
    "list1 * 3"
   ]
  },
  {
   "cell_type": "markdown",
   "id": "e8231495-1a58-4952-90f4-2e5bde3d5336",
   "metadata": {},
   "source": [
    "### To multiple we need to multiply using loops"
   ]
  },
  {
   "cell_type": "code",
   "execution_count": 106,
   "id": "aa047337-8c46-4a88-b7bd-1d7276e9a934",
   "metadata": {},
   "outputs": [
    {
     "data": {
      "text/plain": [
       "[3, 6, 9, 12, 15]"
      ]
     },
     "execution_count": 106,
     "metadata": {},
     "output_type": "execute_result"
    }
   ],
   "source": [
    "[i*3 for i in list1]   "
   ]
  },
  {
   "cell_type": "code",
   "execution_count": 108,
   "id": "90019847-05c9-4a38-8960-925a18b79ff1",
   "metadata": {},
   "outputs": [],
   "source": [
    "list4 = list1 + list2"
   ]
  },
  {
   "cell_type": "code",
   "execution_count": 109,
   "id": "f7fb32c0-9413-40c4-81e1-745d224e6d41",
   "metadata": {},
   "outputs": [
    {
     "data": {
      "text/plain": [
       "[1, 2, 3, 4, 5, 'a', 'b', 'c', 'd', 'e']"
      ]
     },
     "execution_count": 109,
     "metadata": {},
     "output_type": "execute_result"
    }
   ],
   "source": [
    "list4"
   ]
  },
  {
   "cell_type": "code",
   "execution_count": 112,
   "id": "f7179f92-4a55-4d07-9949-0c2f9e8958fb",
   "metadata": {},
   "outputs": [
    {
     "data": {
      "text/plain": [
       "[3, 6, 9, 12, 15, 'aaa', 'bbb', 'ccc', 'ddd', 'eee']"
      ]
     },
     "execution_count": 112,
     "metadata": {},
     "output_type": "execute_result"
    }
   ],
   "source": [
    "[i*3 for i in list4]"
   ]
  },
  {
   "cell_type": "markdown",
   "id": "47bb94fe-f5a8-46d2-95c4-29f476dbb43a",
   "metadata": {},
   "source": [
    "## Packing and Unpacking of Tuple"
   ]
  },
  {
   "cell_type": "markdown",
   "id": "8ddc59fc-b195-4f26-9521-edf97b01e9f8",
   "metadata": {},
   "source": [
    "#### Whenever i am defining numbers as comma seperated they will be treated as packed tuples"
   ]
  },
  {
   "cell_type": "code",
   "execution_count": 114,
   "id": "a51771a0-e98b-4f9d-84c4-1fd466a2e4e0",
   "metadata": {},
   "outputs": [],
   "source": [
    "packed_tuple = 1,\"hello\",3.14"
   ]
  },
  {
   "cell_type": "code",
   "execution_count": 116,
   "id": "5276dd4d-1408-4408-8396-b4be04b3f015",
   "metadata": {},
   "outputs": [
    {
     "data": {
      "text/plain": [
       "(1, 'hello', 3.14)"
      ]
     },
     "execution_count": 116,
     "metadata": {},
     "output_type": "execute_result"
    }
   ],
   "source": [
    "packed_tuple  # you can see it became a tuple "
   ]
  },
  {
   "cell_type": "code",
   "execution_count": 118,
   "id": "934d1303-f710-424f-b591-6f9b391cc828",
   "metadata": {},
   "outputs": [
    {
     "data": {
      "text/plain": [
       "tuple"
      ]
     },
     "execution_count": 118,
     "metadata": {},
     "output_type": "execute_result"
    }
   ],
   "source": [
    "type(packed_tuple)"
   ]
  },
  {
   "cell_type": "markdown",
   "id": "95a7a9df-794b-4cab-8652-df83c8f02a71",
   "metadata": {},
   "source": [
    "#### Unpacking a Tuple"
   ]
  },
  {
   "cell_type": "code",
   "execution_count": 120,
   "id": "7bc72afe-1a40-4448-b0d1-edac7f0717b0",
   "metadata": {},
   "outputs": [],
   "source": [
    "a,b,c=packed_tuple"
   ]
  },
  {
   "cell_type": "code",
   "execution_count": 122,
   "id": "4982d642-0236-4af6-b565-a0450e54727b",
   "metadata": {},
   "outputs": [
    {
     "data": {
      "text/plain": [
       "(1, 'hello', 3.14)"
      ]
     },
     "execution_count": 122,
     "metadata": {},
     "output_type": "execute_result"
    }
   ],
   "source": [
    "a,b,c"
   ]
  },
  {
   "cell_type": "markdown",
   "id": "ac4dee20-2bcb-4e66-9dac-a4ac11e34ba0",
   "metadata": {},
   "source": [
    "#### Unpacking with *"
   ]
  },
  {
   "cell_type": "code",
   "execution_count": 124,
   "id": "2a27b317-49e7-4456-9a4c-4441d3e88b9b",
   "metadata": {},
   "outputs": [],
   "source": [
    "numbers = (1,2,3,4,5,6)\n",
    "first,*middle,last=numbers"
   ]
  },
  {
   "cell_type": "code",
   "execution_count": 129,
   "id": "2059414a-fea7-431d-905f-51fc44dcd9d3",
   "metadata": {},
   "outputs": [
    {
     "data": {
      "text/plain": [
       "[2, 3, 4, 5]"
      ]
     },
     "execution_count": 129,
     "metadata": {},
     "output_type": "execute_result"
    }
   ],
   "source": [
    "middle  #this will be created as a list"
   ]
  },
  {
   "cell_type": "code",
   "execution_count": 127,
   "id": "405fd70c-77f7-414b-ad9c-860b92926050",
   "metadata": {},
   "outputs": [
    {
     "data": {
      "text/plain": [
       "1"
      ]
     },
     "execution_count": 127,
     "metadata": {},
     "output_type": "execute_result"
    }
   ],
   "source": [
    "first"
   ]
  },
  {
   "cell_type": "code",
   "execution_count": 128,
   "id": "01b3e2f6-9beb-4b49-a374-34a2043174ef",
   "metadata": {},
   "outputs": [
    {
     "data": {
      "text/plain": [
       "6"
      ]
     },
     "execution_count": 128,
     "metadata": {},
     "output_type": "execute_result"
    }
   ],
   "source": [
    "last"
   ]
  },
  {
   "cell_type": "markdown",
   "id": "57cd1a92-f38f-412d-9958-b01573aea43f",
   "metadata": {},
   "source": [
    "## Nested Tuples"
   ]
  },
  {
   "cell_type": "code",
   "execution_count": 130,
   "id": "7c71113d-8982-4fff-ac81-f021ec940804",
   "metadata": {},
   "outputs": [],
   "source": [
    "nested_tup = ((1,2,3,'Helllo'),(2,12,{1,2,3}),('Therefore',1),('Yes'))"
   ]
  },
  {
   "cell_type": "code",
   "execution_count": 137,
   "id": "ee108255-b6bf-4e33-96c9-a2361dc50c8b",
   "metadata": {},
   "outputs": [
    {
     "data": {
      "text/plain": [
       "{1, 2, 3}"
      ]
     },
     "execution_count": 137,
     "metadata": {},
     "output_type": "execute_result"
    }
   ],
   "source": [
    "nested_tup[1][1:3][1]"
   ]
  },
  {
   "cell_type": "code",
   "execution_count": 139,
   "id": "1e8af936-eabe-4350-a7b4-f54ecce3ea3e",
   "metadata": {},
   "outputs": [
    {
     "name": "stdout",
     "output_type": "stream",
     "text": [
      "1  2  3  Helllo  \n",
      "2  12  {1, 2, 3}  \n",
      "Therefore  1  \n",
      "Y  e  s  \n"
     ]
    }
   ],
   "source": [
    "for sub_tuple in nested_tup:\n",
    "    for item in sub_tuple:\n",
    "        print(item,end='  ')\n",
    "    print()"
   ]
  },
  {
   "cell_type": "markdown",
   "id": "031074c9-0fce-496f-b215-0ff9bd2b3cb1",
   "metadata": {},
   "source": [
    "# Dictionary"
   ]
  },
  {
   "cell_type": "markdown",
   "id": "90c0b051-2dea-4a13-bc9f-247b57556b4e",
   "metadata": {},
   "source": [
    "### Creating Dictionary"
   ]
  },
  {
   "cell_type": "code",
   "execution_count": 140,
   "id": "4ebf9159-7e7d-4317-9d02-729b7cfeeb66",
   "metadata": {},
   "outputs": [],
   "source": [
    "dic = {1:'apple',2:'mango'}"
   ]
  },
  {
   "cell_type": "code",
   "execution_count": 141,
   "id": "16b5c45b-4cdc-4a3c-99a2-4b2a2c1bcae6",
   "metadata": {},
   "outputs": [
    {
     "data": {
      "text/plain": [
       "'apple'"
      ]
     },
     "execution_count": 141,
     "metadata": {},
     "output_type": "execute_result"
    }
   ],
   "source": [
    "dic[1]"
   ]
  },
  {
   "cell_type": "code",
   "execution_count": 144,
   "id": "47211eea-fc58-4378-b13e-3ab615d71781",
   "metadata": {},
   "outputs": [
    {
     "data": {
      "text/plain": [
       "dict_keys([1, 2])"
      ]
     },
     "execution_count": 144,
     "metadata": {},
     "output_type": "execute_result"
    }
   ],
   "source": [
    "dic.keys()"
   ]
  },
  {
   "cell_type": "code",
   "execution_count": 145,
   "id": "a239f400-a3eb-4684-b90a-19083ca0d066",
   "metadata": {},
   "outputs": [
    {
     "data": {
      "text/plain": [
       "dict_values(['apple', 'mango'])"
      ]
     },
     "execution_count": 145,
     "metadata": {},
     "output_type": "execute_result"
    }
   ],
   "source": [
    "dic.values()"
   ]
  },
  {
   "cell_type": "markdown",
   "id": "15917253-7c29-47fe-bb11-cb6f2da9eab5",
   "metadata": {},
   "source": [
    "### Accessing Dictionary "
   ]
  },
  {
   "cell_type": "code",
   "execution_count": 147,
   "id": "27b67945-6ba4-498b-8f31-f3e886318101",
   "metadata": {},
   "outputs": [
    {
     "data": {
      "text/plain": [
       "'apple'"
      ]
     },
     "execution_count": 147,
     "metadata": {},
     "output_type": "execute_result"
    }
   ],
   "source": [
    "dic[1]"
   ]
  },
  {
   "cell_type": "code",
   "execution_count": 148,
   "id": "977196a2-8b9b-4d44-b2fd-2a2e5ba6ac72",
   "metadata": {},
   "outputs": [
    {
     "data": {
      "text/plain": [
       "'mango'"
      ]
     },
     "execution_count": 148,
     "metadata": {},
     "output_type": "execute_result"
    }
   ],
   "source": [
    "dic[2]"
   ]
  },
  {
   "cell_type": "markdown",
   "id": "fc005dd2-5111-4865-9888-053105bddb0a",
   "metadata": {},
   "source": [
    "#### We can also access by using the get() methods"
   ]
  },
  {
   "cell_type": "code",
   "execution_count": 149,
   "id": "e086e3cd-62fc-4e61-9ad6-0cb1aefd25e3",
   "metadata": {},
   "outputs": [
    {
     "name": "stdout",
     "output_type": "stream",
     "text": [
      "apple\n"
     ]
    }
   ],
   "source": [
    "print(dic.get(1))"
   ]
  },
  {
   "cell_type": "code",
   "execution_count": 150,
   "id": "fa559c00-fccb-4c49-bc36-bff4d72c6693",
   "metadata": {},
   "outputs": [
    {
     "data": {
      "text/plain": [
       "'mango'"
      ]
     },
     "execution_count": 150,
     "metadata": {},
     "output_type": "execute_result"
    }
   ],
   "source": [
    "dic.get(2)"
   ]
  },
  {
   "cell_type": "markdown",
   "id": "50bcbd7d-bed5-4605-9a8e-cc44aa8f0144",
   "metadata": {},
   "source": [
    "#### Using get we can give a default value if the key is not present"
   ]
  },
  {
   "cell_type": "code",
   "execution_count": 152,
   "id": "387b1d7f-dbcb-4103-9b76-a4ab06aaf454",
   "metadata": {},
   "outputs": [
    {
     "ename": "KeyError",
     "evalue": "3",
     "output_type": "error",
     "traceback": [
      "\u001b[1;31m---------------------------------------------------------------------------\u001b[0m",
      "\u001b[1;31mKeyError\u001b[0m                                  Traceback (most recent call last)",
      "Cell \u001b[1;32mIn[152], line 1\u001b[0m\n\u001b[1;32m----> 1\u001b[0m dic[\u001b[38;5;241m3\u001b[39m]\n",
      "\u001b[1;31mKeyError\u001b[0m: 3"
     ]
    }
   ],
   "source": [
    "dic[3]"
   ]
  },
  {
   "cell_type": "code",
   "execution_count": 158,
   "id": "eb400c5f-772a-489c-b467-ff9fd687f587",
   "metadata": {},
   "outputs": [
    {
     "name": "stdout",
     "output_type": "stream",
     "text": [
      "Not_available\n"
     ]
    }
   ],
   "source": [
    "print(dic.get(3,'Not_available'))"
   ]
  },
  {
   "cell_type": "code",
   "execution_count": 155,
   "id": "833bc2ce-7ebd-48a6-9a89-0b431d3702e5",
   "metadata": {},
   "outputs": [
    {
     "name": "stdout",
     "output_type": "stream",
     "text": [
      "None\n"
     ]
    }
   ],
   "source": [
    "print(dic.get(4))"
   ]
  },
  {
   "cell_type": "code",
   "execution_count": 159,
   "id": "32e1430e-b7e9-497f-aa94-7d5b2150fc8f",
   "metadata": {},
   "outputs": [
    {
     "name": "stdout",
     "output_type": "stream",
     "text": [
      "None\n"
     ]
    }
   ],
   "source": [
    "print(dic.get(3))"
   ]
  },
  {
   "cell_type": "code",
   "execution_count": 160,
   "id": "929940e5-6407-4350-b8e4-a9b6da1c41e9",
   "metadata": {},
   "outputs": [],
   "source": [
    "dic[3]='Pineapple'"
   ]
  },
  {
   "cell_type": "code",
   "execution_count": 161,
   "id": "0029f75c-684d-47a1-a3a0-4b321b873ec4",
   "metadata": {},
   "outputs": [
    {
     "data": {
      "text/plain": [
       "'Pineapple'"
      ]
     },
     "execution_count": 161,
     "metadata": {},
     "output_type": "execute_result"
    }
   ],
   "source": [
    "dic[3]"
   ]
  },
  {
   "cell_type": "code",
   "execution_count": 162,
   "id": "d98f5d73-3735-48b7-9dba-d1992ad25565",
   "metadata": {},
   "outputs": [
    {
     "data": {
      "text/plain": [
       "{1: 'apple', 2: 'mango', 3: 'Pineapple'}"
      ]
     },
     "execution_count": 162,
     "metadata": {},
     "output_type": "execute_result"
    }
   ],
   "source": [
    "dic"
   ]
  },
  {
   "cell_type": "code",
   "execution_count": 163,
   "id": "038c1c87-eedd-45c7-8550-3400a862ac5a",
   "metadata": {},
   "outputs": [
    {
     "data": {
      "text/plain": [
       "dict_items([(1, 'apple'), (2, 'mango'), (3, 'Pineapple')])"
      ]
     },
     "execution_count": 163,
     "metadata": {},
     "output_type": "execute_result"
    }
   ],
   "source": [
    "dic.items()"
   ]
  },
  {
   "cell_type": "markdown",
   "id": "81ee2a48-b141-4af7-84b6-79e78e446cb3",
   "metadata": {},
   "source": [
    "## to delete we can use del keyword in Python"
   ]
  },
  {
   "cell_type": "code",
   "execution_count": 165,
   "id": "24ce65d8-cc05-487b-9770-a7f263c8001d",
   "metadata": {},
   "outputs": [],
   "source": [
    "del dic[3]"
   ]
  },
  {
   "cell_type": "code",
   "execution_count": 166,
   "id": "b15ceffd-1913-4b04-90d9-dbf1f84b6be2",
   "metadata": {},
   "outputs": [
    {
     "data": {
      "text/plain": [
       "{1: 'apple', 2: 'mango'}"
      ]
     },
     "execution_count": 166,
     "metadata": {},
     "output_type": "execute_result"
    }
   ],
   "source": [
    "dic"
   ]
  },
  {
   "cell_type": "code",
   "execution_count": 167,
   "id": "4d4a8fc5-ebd7-4f67-9f4e-15582548274a",
   "metadata": {},
   "outputs": [
    {
     "data": {
      "text/plain": [
       "[[1, 'a'], [2, 'b'], [3, 'c'], [4, 'd'], [5, 'e']]"
      ]
     },
     "execution_count": 167,
     "metadata": {},
     "output_type": "execute_result"
    }
   ],
   "source": [
    "list3"
   ]
  },
  {
   "cell_type": "code",
   "execution_count": 168,
   "id": "e27e08de-e516-4898-8042-38af74b4e3ad",
   "metadata": {},
   "outputs": [],
   "source": [
    "del list3[4]"
   ]
  },
  {
   "cell_type": "code",
   "execution_count": 169,
   "id": "acbe6703-4c02-41fe-92ce-f893ec8af4de",
   "metadata": {},
   "outputs": [
    {
     "data": {
      "text/plain": [
       "[[1, 'a'], [2, 'b'], [3, 'c'], [4, 'd']]"
      ]
     },
     "execution_count": 169,
     "metadata": {},
     "output_type": "execute_result"
    }
   ],
   "source": [
    "list3"
   ]
  },
  {
   "cell_type": "code",
   "execution_count": 172,
   "id": "adc13cb2-c47f-4226-99a4-53001516e8bf",
   "metadata": {},
   "outputs": [
    {
     "name": "stdout",
     "output_type": "stream",
     "text": [
      "dict_keys([1, 2])\n"
     ]
    }
   ],
   "source": [
    "print(dic.keys())"
   ]
  },
  {
   "cell_type": "code",
   "execution_count": 173,
   "id": "b5a26956-0519-4e92-a9a0-dda987008f16",
   "metadata": {},
   "outputs": [
    {
     "data": {
      "text/plain": [
       "dict_values(['apple', 'mango'])"
      ]
     },
     "execution_count": 173,
     "metadata": {},
     "output_type": "execute_result"
    }
   ],
   "source": [
    "dic.values()"
   ]
  },
  {
   "cell_type": "code",
   "execution_count": 175,
   "id": "5bc5773e-0b9f-4c5c-ad86-7714f11e5ab6",
   "metadata": {},
   "outputs": [
    {
     "data": {
      "text/plain": [
       "dict_items([(1, 'apple'), (2, 'mango')])"
      ]
     },
     "execution_count": 175,
     "metadata": {},
     "output_type": "execute_result"
    }
   ],
   "source": [
    "dic.items()  #list of tuples"
   ]
  },
  {
   "cell_type": "code",
   "execution_count": null,
   "id": "d9393335-87f3-47ef-985a-8b186846264a",
   "metadata": {},
   "outputs": [],
   "source": []
  },
  {
   "cell_type": "markdown",
   "id": "14c22dc9-0bad-45f4-99c9-52dff389e4b1",
   "metadata": {},
   "source": [
    "## Important concept"
   ]
  },
  {
   "cell_type": "markdown",
   "id": "e343baa4-e6e8-44a2-b840-6f48134b0e60",
   "metadata": {},
   "source": [
    "### shallow copy usage"
   ]
  },
  {
   "cell_type": "code",
   "execution_count": 176,
   "id": "0ca5539d-6f13-4e93-845b-967426d3035d",
   "metadata": {},
   "outputs": [],
   "source": [
    "student = {'age':15,'grade':'A','name':'Subrat'}"
   ]
  },
  {
   "cell_type": "code",
   "execution_count": 177,
   "id": "dca0af7b-5f3d-4f30-a7dd-13ed05622efb",
   "metadata": {},
   "outputs": [
    {
     "data": {
      "text/plain": [
       "{'age': 15, 'grade': 'A', 'name': 'Subrat'}"
      ]
     },
     "execution_count": 177,
     "metadata": {},
     "output_type": "execute_result"
    }
   ],
   "source": [
    "student"
   ]
  },
  {
   "cell_type": "code",
   "execution_count": 178,
   "id": "eb685f1f-8c60-44e2-895b-10fde3d68a4f",
   "metadata": {},
   "outputs": [],
   "source": [
    "student_copy = student"
   ]
  },
  {
   "cell_type": "code",
   "execution_count": 179,
   "id": "185b1123-2292-4ccc-b895-058f2d947ff0",
   "metadata": {},
   "outputs": [
    {
     "data": {
      "text/plain": [
       "{'age': 15, 'grade': 'A', 'name': 'Subrat'}"
      ]
     },
     "execution_count": 179,
     "metadata": {},
     "output_type": "execute_result"
    }
   ],
   "source": [
    "student_copy"
   ]
  },
  {
   "cell_type": "markdown",
   "id": "4c240c23-483f-412d-9009-0bcc45f4a508",
   "metadata": {},
   "source": [
    "#### Here we have student and student_copy where student copy has the values from student"
   ]
  },
  {
   "cell_type": "code",
   "execution_count": 180,
   "id": "0ab0c2c6-140c-4d71-818e-290347086c95",
   "metadata": {},
   "outputs": [
    {
     "name": "stdout",
     "output_type": "stream",
     "text": [
      "{'age': 15, 'grade': 'A', 'name': 'Subrat'}\n",
      "{'age': 15, 'grade': 'A', 'name': 'Subrat'}\n"
     ]
    }
   ],
   "source": [
    "print(student)\n",
    "print(student_copy)"
   ]
  },
  {
   "cell_type": "code",
   "execution_count": 181,
   "id": "83403413-2010-4450-8f6b-60e51d701f16",
   "metadata": {},
   "outputs": [],
   "source": [
    "student['grade']='B'"
   ]
  },
  {
   "cell_type": "code",
   "execution_count": 182,
   "id": "1a9a41ed-3374-4dfd-80ee-3ca8a5c8dd37",
   "metadata": {},
   "outputs": [
    {
     "name": "stdout",
     "output_type": "stream",
     "text": [
      "{'age': 15, 'grade': 'B', 'name': 'Subrat'}\n",
      "{'age': 15, 'grade': 'B', 'name': 'Subrat'}\n"
     ]
    }
   ],
   "source": [
    "print(student)\n",
    "print(student_copy)"
   ]
  },
  {
   "cell_type": "markdown",
   "id": "26f5df21-4490-4eef-947e-c86c479a123e",
   "metadata": {},
   "source": [
    "#### Here we can see both the values got changed , but we changed only in the student one, not the student_copy one , this is the issue that arises"
   ]
  },
  {
   "cell_type": "code",
   "execution_count": 183,
   "id": "3618920b-16ec-4a6d-bc94-33ca56b5ffec",
   "metadata": {},
   "outputs": [
    {
     "data": {
      "text/plain": [
       "[1, 2, 3, 4, 5]"
      ]
     },
     "execution_count": 183,
     "metadata": {},
     "output_type": "execute_result"
    }
   ],
   "source": [
    "list1"
   ]
  },
  {
   "cell_type": "code",
   "execution_count": 185,
   "id": "a740f3ec-ad91-48e5-b51e-0ccd99df10ec",
   "metadata": {},
   "outputs": [],
   "source": [
    "list5=list1"
   ]
  },
  {
   "cell_type": "code",
   "execution_count": 186,
   "id": "1c538a78-61e6-4ea7-ad7f-09a17f9ce9d9",
   "metadata": {},
   "outputs": [
    {
     "data": {
      "text/plain": [
       "[1, 2, 3, 4, 5]"
      ]
     },
     "execution_count": 186,
     "metadata": {},
     "output_type": "execute_result"
    }
   ],
   "source": [
    "list5 "
   ]
  },
  {
   "cell_type": "code",
   "execution_count": 187,
   "id": "dbd2ce33-88c1-4ee7-8dd4-85dacb7b2b4c",
   "metadata": {},
   "outputs": [],
   "source": [
    "list5[2]=10"
   ]
  },
  {
   "cell_type": "code",
   "execution_count": 189,
   "id": "80ee5026-882e-4bc6-8cde-c6053dfd909d",
   "metadata": {},
   "outputs": [
    {
     "name": "stdout",
     "output_type": "stream",
     "text": [
      "[1, 2, 10, 4, 5]\n",
      "[1, 2, 10, 4, 5]\n"
     ]
    }
   ],
   "source": [
    "print(list1)\n",
    "print(list5)"
   ]
  },
  {
   "cell_type": "code",
   "execution_count": 199,
   "id": "80f36753-541e-410f-9ac4-0d319141a489",
   "metadata": {},
   "outputs": [
    {
     "data": {
      "text/plain": [
       "3178682793152"
      ]
     },
     "execution_count": 199,
     "metadata": {},
     "output_type": "execute_result"
    }
   ],
   "source": [
    "id(list1)"
   ]
  },
  {
   "cell_type": "code",
   "execution_count": 200,
   "id": "4c2aebde-b484-440c-ac0f-4554a2733581",
   "metadata": {},
   "outputs": [
    {
     "data": {
      "text/plain": [
       "3178682793152"
      ]
     },
     "execution_count": 200,
     "metadata": {},
     "output_type": "execute_result"
    }
   ],
   "source": [
    "id(list5)"
   ]
  },
  {
   "cell_type": "markdown",
   "id": "ba4f9dc3-e0c4-4559-8006-2c490b69b5ed",
   "metadata": {},
   "source": [
    "##### since the same memory location is used during assignment this is the reason we are having the issue"
   ]
  },
  {
   "cell_type": "markdown",
   "id": "cce30626-c207-47db-8312-30a7baf6bf0a",
   "metadata": {},
   "source": [
    "#### same issue comes in list as well"
   ]
  },
  {
   "cell_type": "markdown",
   "id": "41372d0d-b4ae-46f4-9e05-0fad5d19dd37",
   "metadata": {},
   "source": [
    "### What we need to do is use Shallow copy"
   ]
  },
  {
   "cell_type": "code",
   "execution_count": 191,
   "id": "349b8b48-051c-46bd-beb1-a52fe6e28bf5",
   "metadata": {},
   "outputs": [
    {
     "data": {
      "text/plain": [
       "{'age': 15, 'grade': 'B', 'name': 'Subrat'}"
      ]
     },
     "execution_count": 191,
     "metadata": {},
     "output_type": "execute_result"
    }
   ],
   "source": [
    "student"
   ]
  },
  {
   "cell_type": "code",
   "execution_count": 192,
   "id": "0a0b4893-d249-4cca-9bee-8a096cc326d9",
   "metadata": {},
   "outputs": [],
   "source": [
    "student_copy = student.copy()"
   ]
  },
  {
   "cell_type": "code",
   "execution_count": 193,
   "id": "f0498d2f-2d81-4025-a6d1-6d37c94de7f1",
   "metadata": {},
   "outputs": [
    {
     "data": {
      "text/plain": [
       "{'age': 15, 'grade': 'B', 'name': 'Subrat'}"
      ]
     },
     "execution_count": 193,
     "metadata": {},
     "output_type": "execute_result"
    }
   ],
   "source": [
    "student_copy"
   ]
  },
  {
   "cell_type": "code",
   "execution_count": 194,
   "id": "2ae5f4dd-f8c0-41f9-8a29-546dca1de001",
   "metadata": {},
   "outputs": [],
   "source": [
    "student['name']='Khushboo'"
   ]
  },
  {
   "cell_type": "code",
   "execution_count": 195,
   "id": "cce56e20-4298-4999-830a-f72421005f8a",
   "metadata": {},
   "outputs": [
    {
     "name": "stdout",
     "output_type": "stream",
     "text": [
      "{'age': 15, 'grade': 'B', 'name': 'Khushboo'}\n",
      "{'age': 15, 'grade': 'B', 'name': 'Subrat'}\n"
     ]
    }
   ],
   "source": [
    "print(student)\n",
    "print(student_copy)"
   ]
  },
  {
   "cell_type": "markdown",
   "id": "ef74fceb-64aa-4f4a-9b8f-f8ba5fdd7340",
   "metadata": {},
   "source": [
    "#### Therefore we can see is the changes in student doen't affect student copy which is what we want"
   ]
  },
  {
   "cell_type": "code",
   "execution_count": 196,
   "id": "17b5afd3-0baf-4400-b4e2-9b626d53e63c",
   "metadata": {},
   "outputs": [
    {
     "data": {
      "text/plain": [
       "3178686818624"
      ]
     },
     "execution_count": 196,
     "metadata": {},
     "output_type": "execute_result"
    }
   ],
   "source": [
    "id(student)"
   ]
  },
  {
   "cell_type": "code",
   "execution_count": 197,
   "id": "adb52d43-32f5-412a-a045-a20f7e701684",
   "metadata": {},
   "outputs": [
    {
     "data": {
      "text/plain": [
       "3178686957056"
      ]
     },
     "execution_count": 197,
     "metadata": {},
     "output_type": "execute_result"
    }
   ],
   "source": [
    "id(student_copy)"
   ]
  },
  {
   "cell_type": "code",
   "execution_count": null,
   "id": "9b0aa11f-73fe-4e26-bfa9-356c132a64a1",
   "metadata": {},
   "outputs": [],
   "source": []
  },
  {
   "cell_type": "code",
   "execution_count": null,
   "id": "97676cfd-c0b8-4c3e-ad8a-68b0fec56979",
   "metadata": {},
   "outputs": [],
   "source": []
  },
  {
   "cell_type": "markdown",
   "id": "fb7c7e5f-737b-4a7e-8798-86af5fb42066",
   "metadata": {},
   "source": [
    "### Iterating over Dictionary"
   ]
  },
  {
   "cell_type": "code",
   "execution_count": 201,
   "id": "d660f077-1ce7-410c-a4d1-5eac0258db99",
   "metadata": {},
   "outputs": [
    {
     "data": {
      "text/plain": [
       "{'age': 15, 'grade': 'B', 'name': 'Khushboo'}"
      ]
     },
     "execution_count": 201,
     "metadata": {},
     "output_type": "execute_result"
    }
   ],
   "source": [
    "student"
   ]
  },
  {
   "cell_type": "code",
   "execution_count": 209,
   "id": "b81b572e-b6e2-480b-9278-4c2b2e98f849",
   "metadata": {},
   "outputs": [
    {
     "name": "stdout",
     "output_type": "stream",
     "text": [
      "age 15\n",
      "grade B\n",
      "name Khushboo\n"
     ]
    }
   ],
   "source": [
    "for keys in student:\n",
    "    print(keys,student[keys])"
   ]
  },
  {
   "cell_type": "code",
   "execution_count": 213,
   "id": "56578f08-3f91-4e40-b600-82b6365b70d5",
   "metadata": {},
   "outputs": [
    {
     "name": "stdout",
     "output_type": "stream",
     "text": [
      "15\n",
      "B\n",
      "Khushboo\n"
     ]
    }
   ],
   "source": [
    "for value in student.values():\n",
    "    print(value)"
   ]
  },
  {
   "cell_type": "code",
   "execution_count": 216,
   "id": "e349dc43-6680-4667-a9da-47cddafb8e7f",
   "metadata": {},
   "outputs": [
    {
     "name": "stdout",
     "output_type": "stream",
     "text": [
      "age   15\n",
      "grade   B\n",
      "name   Khushboo\n"
     ]
    }
   ],
   "source": [
    "for key,value in student.items():\n",
    "    print(key ,' ', value)"
   ]
  },
  {
   "cell_type": "code",
   "execution_count": 217,
   "id": "dbc1f0c7-cb4a-49df-a86a-9ba95eca4860",
   "metadata": {},
   "outputs": [
    {
     "name": "stdout",
     "output_type": "stream",
     "text": [
      "age:15\n",
      "grade:B\n",
      "name:Khushboo\n"
     ]
    }
   ],
   "source": [
    "for key,value in student.items():\n",
    "    print(f'{key}:{value}')"
   ]
  },
  {
   "cell_type": "markdown",
   "id": "ae2cad76-f47e-4a50-9cc9-c38cb426a59b",
   "metadata": {},
   "source": [
    "### Dictionary Comprehension"
   ]
  },
  {
   "cell_type": "code",
   "execution_count": 12,
   "id": "8d455e48-f291-4026-94d0-095731ec2ee4",
   "metadata": {},
   "outputs": [],
   "source": [
    "squares = {x:x**2 for x in range(5) if x%2==0}"
   ]
  },
  {
   "cell_type": "code",
   "execution_count": 13,
   "id": "8611bdff-8774-408b-97a3-1bd48cc2b4be",
   "metadata": {},
   "outputs": [
    {
     "data": {
      "text/plain": [
       "{0: 0, 2: 4, 4: 16}"
      ]
     },
     "execution_count": 13,
     "metadata": {},
     "output_type": "execute_result"
    }
   ],
   "source": [
    "squares"
   ]
  },
  {
   "cell_type": "markdown",
   "id": "98320924-e2cc-46f9-812e-ec3a93c37222",
   "metadata": {},
   "source": [
    "### Use a dictionary to count the frequency of elements in the list"
   ]
  },
  {
   "cell_type": "code",
   "execution_count": 14,
   "id": "dfffaff5-d704-4c29-b46a-3f93bf5738a8",
   "metadata": {},
   "outputs": [],
   "source": [
    "number = [1,2,3,4,6,1,2,3,4,5,6,7,8,8,1,2,3,4,5,6]"
   ]
  },
  {
   "cell_type": "code",
   "execution_count": 16,
   "id": "1be0a3be-c481-4675-a518-58a7c081da80",
   "metadata": {},
   "outputs": [],
   "source": [
    "dic={}\n",
    "for i in number:\n",
    "    if i in dic:\n",
    "        dic[i]+=1\n",
    "    else:\n",
    "        dic[i]=1"
   ]
  },
  {
   "cell_type": "code",
   "execution_count": 17,
   "id": "9d5dfb48-5127-4798-865d-79cd92760475",
   "metadata": {},
   "outputs": [
    {
     "data": {
      "text/plain": [
       "{1: 3, 2: 3, 3: 3, 4: 3, 6: 3, 5: 2, 7: 1, 8: 2}"
      ]
     },
     "execution_count": 17,
     "metadata": {},
     "output_type": "execute_result"
    }
   ],
   "source": [
    "dic"
   ]
  },
  {
   "cell_type": "markdown",
   "id": "bc0a484e-0975-42fd-8d00-a7360f8fc117",
   "metadata": {},
   "source": [
    "#### Merge two dictionaries into one , unpacking operator(**)"
   ]
  },
  {
   "cell_type": "code",
   "execution_count": 20,
   "id": "188e1c0c-10c8-4df7-8f12-47ebf2048080",
   "metadata": {},
   "outputs": [],
   "source": [
    "dict1={\"a\":1,\"b\":2}\n",
    "dict2={\"b\":3,\"c\":4}\n",
    "merged_dict={**dict1,**dict2}\n"
   ]
  },
  {
   "cell_type": "code",
   "execution_count": 21,
   "id": "83805556-d70e-4403-9048-882a5ad4612f",
   "metadata": {},
   "outputs": [
    {
     "data": {
      "text/plain": [
       "{'a': 1, 'b': 3, 'c': 4}"
      ]
     },
     "execution_count": 21,
     "metadata": {},
     "output_type": "execute_result"
    }
   ],
   "source": [
    "merged_dict"
   ]
  },
  {
   "cell_type": "markdown",
   "id": "3c5ea4c1-2a49-4ee0-9df2-43a8c0d35310",
   "metadata": {},
   "source": [
    "#### Real World Use cases of list"
   ]
  },
  {
   "cell_type": "markdown",
   "id": "82018131-77de-4476-9a44-cba11bddd1fe",
   "metadata": {},
   "source": [
    "###### 1. To_Do_List"
   ]
  },
  {
   "cell_type": "markdown",
   "id": "27fd5b40-7113-4ea5-b554-dbba8d306170",
   "metadata": {},
   "source": [
    "using -> append, remove , pop"
   ]
  },
  {
   "cell_type": "markdown",
   "id": "0651fffd-7571-42e2-8edb-db77fb2dbdfa",
   "metadata": {},
   "source": [
    "###### 2. Organizing Student Grades "
   ]
  },
  {
   "cell_type": "markdown",
   "id": "412afe0f-662c-438d-ab15-8996e25664d5",
   "metadata": {},
   "source": [
    "using -> append , avg - sum(grades)/len(grades) , max , min"
   ]
  },
  {
   "cell_type": "markdown",
   "id": "13a1925a-bc01-4d94-b95b-98f6f30a1182",
   "metadata": {},
   "source": [
    "###### 3. Managing an inventory"
   ]
  },
  {
   "cell_type": "markdown",
   "id": "7c06b7a4-7c38-4aeb-9ad1-11a08ed7ffe1",
   "metadata": {},
   "source": [
    "using -> append, remove"
   ]
  },
  {
   "cell_type": "markdown",
   "id": "c1b45305-b13b-4360-8420-1a407bcdcd47",
   "metadata": {},
   "source": [
    "###### 4. Collecting user feedback"
   ]
  },
  {
   "cell_type": "markdown",
   "id": "2e5640de-2a79-4d79-bb09-b7dbfa11731c",
   "metadata": {},
   "source": [
    "using -> append "
   ]
  },
  {
   "cell_type": "code",
   "execution_count": null,
   "id": "ce6bad84-358f-4705-ac1c-2c9393aad237",
   "metadata": {},
   "outputs": [],
   "source": []
  },
  {
   "cell_type": "code",
   "execution_count": null,
   "id": "cfb672aa-5bd3-47d1-a068-2c74bd6f72eb",
   "metadata": {},
   "outputs": [],
   "source": []
  },
  {
   "cell_type": "code",
   "execution_count": null,
   "id": "2111d4cc-8653-4b06-907b-37b76656b511",
   "metadata": {},
   "outputs": [],
   "source": []
  },
  {
   "cell_type": "code",
   "execution_count": null,
   "id": "703348e3-cf64-4961-a97c-afd02672ed23",
   "metadata": {},
   "outputs": [],
   "source": []
  }
 ],
 "metadata": {
  "kernelspec": {
   "display_name": "Python 3 (ipykernel)",
   "language": "python",
   "name": "python3"
  },
  "language_info": {
   "codemirror_mode": {
    "name": "ipython",
    "version": 3
   },
   "file_extension": ".py",
   "mimetype": "text/x-python",
   "name": "python",
   "nbconvert_exporter": "python",
   "pygments_lexer": "ipython3",
   "version": "3.11.7"
  }
 },
 "nbformat": 4,
 "nbformat_minor": 5
}
