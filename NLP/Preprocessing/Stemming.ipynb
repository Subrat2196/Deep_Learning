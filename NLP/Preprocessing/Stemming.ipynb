{
 "cells": [
  {
   "cell_type": "markdown",
   "id": "d8b154bc-4a75-40c5-8340-1c1f935b2582",
   "metadata": {},
   "source": [
    "# Stemming "
   ]
  },
  {
   "cell_type": "code",
   "execution_count": 1,
   "id": "63c9411c-d792-43e3-9ee8-c203931d93f0",
   "metadata": {},
   "outputs": [],
   "source": [
    "import nltk"
   ]
  },
  {
   "cell_type": "markdown",
   "id": "d444ea8f-3ba1-46f4-b57f-43c3964ca59a",
   "metadata": {},
   "source": [
    "### 1. Porter =Stemmer"
   ]
  },
  {
   "cell_type": "code",
   "execution_count": 2,
   "id": "3aebeed9-5834-4d4f-b72d-4c40db6e709f",
   "metadata": {},
   "outputs": [],
   "source": [
    "from nltk.stem import PorterStemmer"
   ]
  },
  {
   "cell_type": "markdown",
   "id": "794b20c6-b36c-42c7-bc1b-97e9f83b38de",
   "metadata": {},
   "source": [
    "### Creating an object of PorterStemmer"
   ]
  },
  {
   "cell_type": "code",
   "execution_count": 4,
   "id": "363ecbbe-860a-42c9-a97c-a3541e6ead2b",
   "metadata": {},
   "outputs": [
    {
     "name": "stdout",
     "output_type": "stream",
     "text": [
      "Hello------->hello\n",
      "Printer------->printer\n",
      "Printing------->print\n",
      "Print------->print\n",
      "Portfolio------->portfolio\n",
      "Run------->run\n",
      "Runner------->runner\n",
      "Running------->run\n"
     ]
    }
   ],
   "source": [
    "p_stemmer = PorterStemmer()\n",
    "words = ['Hello','Printer','Printing','Print','Portfolio','Run','Runner','Running']\n",
    "for word in words:\n",
    "    print(word+'------->'+p_stemmer.stem(word))"
   ]
  },
  {
   "cell_type": "markdown",
   "id": "d3bbd4e3-71a8-42c2-aa3e-7dfc1d2ea002",
   "metadata": {},
   "source": [
    "### Why stemming has some issues"
   ]
  },
  {
   "cell_type": "code",
   "execution_count": 7,
   "id": "c09472af-1924-4bdd-915c-86420d9f885e",
   "metadata": {},
   "outputs": [
    {
     "data": {
      "text/plain": [
       "'congratul'"
      ]
     },
     "execution_count": 7,
     "metadata": {},
     "output_type": "execute_result"
    }
   ],
   "source": [
    "p_stemmer.stem('congratulations')"
   ]
  },
  {
   "cell_type": "code",
   "execution_count": 8,
   "id": "5ef009b1-633c-480a-a86d-c0151a658b18",
   "metadata": {},
   "outputs": [
    {
     "data": {
      "text/plain": [
       "'celebr'"
      ]
     },
     "execution_count": 8,
     "metadata": {},
     "output_type": "execute_result"
    }
   ],
   "source": [
    "p_stemmer.stem('celebrations')"
   ]
  },
  {
   "cell_type": "markdown",
   "id": "3addb319-d0c8-470c-bfa3-244e13b760af",
   "metadata": {},
   "source": [
    "#### We can see it doesn't work for all the words , therefore it sometimes is not able to create meaningful stems out of words"
   ]
  },
  {
   "cell_type": "code",
   "execution_count": null,
   "id": "690e3a14-94b7-426c-ac7c-5f2662c6cdac",
   "metadata": {},
   "outputs": [],
   "source": []
  },
  {
   "cell_type": "markdown",
   "id": "2e2e78a4-3bc1-42e9-a973-fb679fa332c1",
   "metadata": {},
   "source": [
    "### 2. RegexpStemmer"
   ]
  },
  {
   "cell_type": "code",
   "execution_count": 9,
   "id": "4fe1247f-7029-457b-b425-c9509677ea24",
   "metadata": {},
   "outputs": [],
   "source": [
    "from nltk.stem import RegexpStemmer"
   ]
  },
  {
   "cell_type": "code",
   "execution_count": 40,
   "id": "9dcb1ed8-df0b-42a6-af50-d4ff0341eef7",
   "metadata": {},
   "outputs": [
    {
     "name": "stdout",
     "output_type": "stream",
     "text": [
      "Hello----->Hello\n",
      "Printer----->Print\n",
      "Printing----->Print\n",
      "Print----->Print\n",
      "Prints----->Print\n",
      "Portfolio----->Portfolio\n",
      "Run----->Run\n",
      "Runner----->Run\n",
      "Running----->Run\n",
      "Runs----->Run\n"
     ]
    }
   ],
   "source": [
    "words = ['Hello','Printer','Printing','Print','Prints','Portfolio','Run','Runner','Running','Runs']\n",
    "pattern = \"ing$|s$|e$|er$|ner$|ning$\"\n",
    "reg_stem = RegexpStemmer(pattern,min=4)\n",
    "for word in words:\n",
    "    print(word+'----->'+reg_stem.stem(word))"
   ]
  },
  {
   "cell_type": "markdown",
   "id": "77f66d54-441b-49ac-ba21-3c1b5e63d33c",
   "metadata": {},
   "source": [
    "## Regex (Regular Expression)"
   ]
  },
  {
   "cell_type": "code",
   "execution_count": 11,
   "id": "bb0ef217-7e08-4d9d-892e-7bc10bc56c2d",
   "metadata": {},
   "outputs": [],
   "source": [
    "import re"
   ]
  },
  {
   "cell_type": "markdown",
   "id": "28b760fe-a37f-4ed2-b615-a032474668c3",
   "metadata": {},
   "source": [
    "##### it works on 2 things (patterns and text)"
   ]
  },
  {
   "cell_type": "code",
   "execution_count": 15,
   "id": "c5b19eb2-76a2-4d69-80ce-b7c73f02df95",
   "metadata": {},
   "outputs": [],
   "source": [
    "pattern = \"very\"\n",
    "text = ''' Simple Model (High Bias, Low Variance): A straight line might miss the true curve of the data, \n",
    "but it will not change much with different data sets.\n",
    "Complex Model (Low Bias, High Variance): A very wiggly line might fit the data points exactly, \n",
    "but small changes in the data can lead to a completely different wiggly line.\n",
    "Real-World Analogy\n",
    "Think of bias and variance in terms of studying for an exam:\n",
    "\n",
    "High Bias (Simple Model): If you only study a few basic concepts, your answers will be consistently wrong for complex questions (underfitting),\n",
    "but you'll give similar answers every time (low variance).\n",
    "High Variance (Complex Model): If you try to memorize every possible detail and example, you might do well on the practice tests (low bias), \n",
    "but your performance will vary a lot depending on the exact questions you get on the real exam (high variance).\n",
    "'''"
   ]
  },
  {
   "cell_type": "markdown",
   "id": "d02de48c-876b-4a54-8881-0867f068ccc6",
   "metadata": {},
   "source": [
    "#### re.search() -> for getting the 1st occurence or getting whether pattern present in text or not"
   ]
  },
  {
   "cell_type": "code",
   "execution_count": 18,
   "id": "8daa0c10-840b-4dc3-8b04-65757fe4c716",
   "metadata": {},
   "outputs": [
    {
     "data": {
      "text/plain": [
       "<re.Match object; span=(194, 198), match='very'>"
      ]
     },
     "execution_count": 18,
     "metadata": {},
     "output_type": "execute_result"
    }
   ],
   "source": [
    "match = re.search(pattern,text)\n",
    "match"
   ]
  },
  {
   "cell_type": "code",
   "execution_count": 20,
   "id": "e42646da-2664-4b2f-85b6-dd9d734911f9",
   "metadata": {},
   "outputs": [
    {
     "data": {
      "text/plain": [
       "<re.Match object; span=(151, 158), match='Complex'>"
      ]
     },
     "execution_count": 20,
     "metadata": {},
     "output_type": "execute_result"
    }
   ],
   "source": [
    "pattern = r\"[A-Z]omplex\"\n",
    "re.search(pattern,text)"
   ]
  },
  {
   "cell_type": "markdown",
   "id": "a5f685ea-2f14-4b89-b588-8ff1e0fa0b1e",
   "metadata": {},
   "source": [
    "#### re.finditer() -> for getting all the occurences"
   ]
  },
  {
   "cell_type": "code",
   "execution_count": 30,
   "id": "3c26fd55-0f52-4dba-94a5-20e98225e562",
   "metadata": {},
   "outputs": [],
   "source": [
    "pattern = r\"[A-Z]\""
   ]
  },
  {
   "cell_type": "code",
   "execution_count": 31,
   "id": "069c4148-d386-4265-9b16-2c242b90cfd1",
   "metadata": {},
   "outputs": [
    {
     "name": "stdout",
     "output_type": "stream",
     "text": [
      "<re.Match object; span=(1, 2), match='S'>\n",
      "<re.Match object; span=(8, 9), match='M'>\n",
      "<re.Match object; span=(15, 16), match='H'>\n",
      "<re.Match object; span=(20, 21), match='B'>\n",
      "<re.Match object; span=(26, 27), match='L'>\n",
      "<re.Match object; span=(30, 31), match='V'>\n",
      "<re.Match object; span=(41, 42), match='A'>\n",
      "<re.Match object; span=(151, 152), match='C'>\n",
      "<re.Match object; span=(159, 160), match='M'>\n",
      "<re.Match object; span=(166, 167), match='L'>\n",
      "<re.Match object; span=(170, 171), match='B'>\n",
      "<re.Match object; span=(176, 177), match='H'>\n",
      "<re.Match object; span=(181, 182), match='V'>\n",
      "<re.Match object; span=(192, 193), match='A'>\n",
      "<re.Match object; span=(325, 326), match='R'>\n",
      "<re.Match object; span=(330, 331), match='W'>\n",
      "<re.Match object; span=(336, 337), match='A'>\n",
      "<re.Match object; span=(344, 345), match='T'>\n",
      "<re.Match object; span=(406, 407), match='H'>\n",
      "<re.Match object; span=(411, 412), match='B'>\n",
      "<re.Match object; span=(417, 418), match='S'>\n",
      "<re.Match object; span=(424, 425), match='M'>\n",
      "<re.Match object; span=(432, 433), match='I'>\n",
      "<re.Match object; span=(609, 610), match='H'>\n",
      "<re.Match object; span=(614, 615), match='V'>\n",
      "<re.Match object; span=(624, 625), match='C'>\n",
      "<re.Match object; span=(632, 633), match='M'>\n",
      "<re.Match object; span=(640, 641), match='I'>\n"
     ]
    }
   ],
   "source": [
    "matches = re.finditer(pattern,text)\n",
    "for match in matches:\n",
    "    print(match)"
   ]
  },
  {
   "cell_type": "code",
   "execution_count": 33,
   "id": "66fa43f2-fe9d-4ed7-ae56-48831b6bf81d",
   "metadata": {},
   "outputs": [
    {
     "name": "stdout",
     "output_type": "stream",
     "text": [
      "<re.Match object; span=(1, 7), match='Simple'>\n",
      "<re.Match object; span=(8, 13), match='Model'>\n",
      "<re.Match object; span=(15, 19), match='High'>\n",
      "<re.Match object; span=(20, 24), match='Bias'>\n",
      "<re.Match object; span=(26, 29), match='Low'>\n",
      "<re.Match object; span=(30, 38), match='Variance'>\n",
      "<re.Match object; span=(41, 42), match='A'>\n",
      "<re.Match object; span=(151, 158), match='Complex'>\n",
      "<re.Match object; span=(159, 164), match='Model'>\n",
      "<re.Match object; span=(166, 169), match='Low'>\n",
      "<re.Match object; span=(170, 174), match='Bias'>\n",
      "<re.Match object; span=(176, 180), match='High'>\n",
      "<re.Match object; span=(181, 189), match='Variance'>\n",
      "<re.Match object; span=(192, 193), match='A'>\n",
      "<re.Match object; span=(325, 329), match='Real'>\n",
      "<re.Match object; span=(330, 335), match='World'>\n",
      "<re.Match object; span=(336, 343), match='Analogy'>\n",
      "<re.Match object; span=(344, 349), match='Think'>\n",
      "<re.Match object; span=(406, 410), match='High'>\n",
      "<re.Match object; span=(411, 415), match='Bias'>\n",
      "<re.Match object; span=(417, 423), match='Simple'>\n",
      "<re.Match object; span=(424, 429), match='Model'>\n",
      "<re.Match object; span=(432, 434), match='If'>\n",
      "<re.Match object; span=(609, 613), match='High'>\n",
      "<re.Match object; span=(614, 622), match='Variance'>\n",
      "<re.Match object; span=(624, 631), match='Complex'>\n",
      "<re.Match object; span=(632, 637), match='Model'>\n",
      "<re.Match object; span=(640, 642), match='If'>\n"
     ]
    }
   ],
   "source": [
    "pattern = r\"[A-Z][a-z]*\"\n",
    "matches = re.finditer(pattern,text)\n",
    "for match in matches:\n",
    "    print(match)"
   ]
  },
  {
   "cell_type": "code",
   "execution_count": null,
   "id": "61015c64-029c-4a2d-acdb-b147fb0d95b0",
   "metadata": {},
   "outputs": [],
   "source": []
  },
  {
   "cell_type": "markdown",
   "id": "60f81787-9dbb-4daa-869d-3789c4490c16",
   "metadata": {},
   "source": [
    "### 3. SnowballStemmer -> more powerful than PorterStemmer"
   ]
  },
  {
   "cell_type": "code",
   "execution_count": 47,
   "id": "ff61121c-65b4-4d8a-b709-c287dd8a4ea9",
   "metadata": {},
   "outputs": [
    {
     "name": "stdout",
     "output_type": "stream",
     "text": [
      "Hello----------->hello\n",
      "Printer----------->printer\n",
      "Printing----------->print\n",
      "Print----------->print\n",
      "Prints----------->print\n",
      "Portfolio----------->portfolio\n",
      "Run----------->run\n",
      "Runner----------->runner\n",
      "Running----------->run\n",
      "Runs----------->run\n"
     ]
    }
   ],
   "source": [
    "from nltk.stem import SnowballStemmer\n",
    "sb_stemmer=SnowballStemmer(\"english\")\n",
    "for word in words:\n",
    "    print(word+\"----------->\"+sb_stemmer.stem(word))"
   ]
  },
  {
   "cell_type": "code",
   "execution_count": 48,
   "id": "5dc51cda-520c-49f4-98f2-0eea85da93c4",
   "metadata": {},
   "outputs": [
    {
     "data": {
      "text/plain": [
       "'congratul'"
      ]
     },
     "execution_count": 48,
     "metadata": {},
     "output_type": "execute_result"
    }
   ],
   "source": [
    "sb_stemmer.stem('Congratulations')"
   ]
  },
  {
   "cell_type": "markdown",
   "id": "89dbdae3-3a53-4527-b124-c1f0f4885748",
   "metadata": {},
   "source": [
    "#### Even SnowballStemmer has issues "
   ]
  },
  {
   "cell_type": "code",
   "execution_count": null,
   "id": "f0f07c0a-6eb3-4206-969a-7974d875ecd0",
   "metadata": {},
   "outputs": [],
   "source": []
  }
 ],
 "metadata": {
  "kernelspec": {
   "display_name": "Python 3 (ipykernel)",
   "language": "python",
   "name": "python3"
  },
  "language_info": {
   "codemirror_mode": {
    "name": "ipython",
    "version": 3
   },
   "file_extension": ".py",
   "mimetype": "text/x-python",
   "name": "python",
   "nbconvert_exporter": "python",
   "pygments_lexer": "ipython3",
   "version": "3.11.7"
  }
 },
 "nbformat": 4,
 "nbformat_minor": 5
}
