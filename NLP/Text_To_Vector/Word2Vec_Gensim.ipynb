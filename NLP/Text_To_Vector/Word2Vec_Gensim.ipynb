{
 "cells": [
  {
   "cell_type": "code",
   "execution_count": 1,
   "id": "08a48a84-99f6-42ed-914a-52d5de132e0f",
   "metadata": {},
   "outputs": [
    {
     "name": "stdout",
     "output_type": "stream",
     "text": [
      "Requirement already satisfied: gensim in c:\\users\\anonymous\\anaconda3\\lib\\site-packages (4.3.0)\n",
      "Requirement already satisfied: numpy>=1.18.5 in c:\\users\\anonymous\\anaconda3\\lib\\site-packages (from gensim) (1.24.4)\n",
      "Requirement already satisfied: scipy>=1.7.0 in c:\\users\\anonymous\\anaconda3\\lib\\site-packages (from gensim) (1.10.1)\n",
      "Requirement already satisfied: smart-open>=1.8.1 in c:\\users\\anonymous\\anaconda3\\lib\\site-packages (from gensim) (5.2.1)\n",
      "Requirement already satisfied: FuzzyTM>=0.4.0 in c:\\users\\anonymous\\anaconda3\\lib\\site-packages (from gensim) (2.0.9)\n",
      "Requirement already satisfied: pandas in c:\\users\\anonymous\\anaconda3\\lib\\site-packages (from FuzzyTM>=0.4.0->gensim) (1.5.3)\n",
      "Requirement already satisfied: pyfume in c:\\users\\anonymous\\anaconda3\\lib\\site-packages (from FuzzyTM>=0.4.0->gensim) (0.3.4)\n",
      "Requirement already satisfied: python-dateutil>=2.8.1 in c:\\users\\anonymous\\anaconda3\\lib\\site-packages (from pandas->FuzzyTM>=0.4.0->gensim) (2.8.2)\n",
      "Requirement already satisfied: pytz>=2020.1 in c:\\users\\anonymous\\anaconda3\\lib\\site-packages (from pandas->FuzzyTM>=0.4.0->gensim) (2023.3.post1)\n",
      "Requirement already satisfied: simpful==2.12.0 in c:\\users\\anonymous\\anaconda3\\lib\\site-packages (from pyfume->FuzzyTM>=0.4.0->gensim) (2.12.0)\n",
      "Requirement already satisfied: fst-pso==1.8.1 in c:\\users\\anonymous\\anaconda3\\lib\\site-packages (from pyfume->FuzzyTM>=0.4.0->gensim) (1.8.1)\n",
      "Requirement already satisfied: miniful in c:\\users\\anonymous\\anaconda3\\lib\\site-packages (from fst-pso==1.8.1->pyfume->FuzzyTM>=0.4.0->gensim) (0.0.6)\n",
      "Requirement already satisfied: six>=1.5 in c:\\users\\anonymous\\anaconda3\\lib\\site-packages (from python-dateutil>=2.8.1->pandas->FuzzyTM>=0.4.0->gensim) (1.16.0)\n"
     ]
    }
   ],
   "source": [
    "!pip install gensim"
   ]
  },
  {
   "cell_type": "code",
   "execution_count": 2,
   "id": "b769c423-6305-4ea7-9e83-d44ff1d775c3",
   "metadata": {},
   "outputs": [],
   "source": [
    "import gensim"
   ]
  },
  {
   "cell_type": "code",
   "execution_count": 3,
   "id": "b22ed141-1c0a-4a47-affe-fbb422ac21f1",
   "metadata": {},
   "outputs": [],
   "source": [
    "from gensim.models import Word2Vec,KeyedVectors"
   ]
  },
  {
   "cell_type": "markdown",
   "id": "7a322772-e08a-429b-a0aa-080666bab54e",
   "metadata": {},
   "source": [
    "## Taking a google pre trained model (word2vec)"
   ]
  },
  {
   "cell_type": "code",
   "execution_count": 4,
   "id": "f109aa6b-9d5a-475b-9df5-2f81e0a6def6",
   "metadata": {},
   "outputs": [],
   "source": [
    "import gensim.downloader as api"
   ]
  },
  {
   "cell_type": "code",
   "execution_count": 5,
   "id": "17c86248-a8fc-43f7-88ec-882096140e44",
   "metadata": {},
   "outputs": [],
   "source": [
    "# w2v = api.load('word2vec-google-news-300')  -"
   ]
  },
  {
   "cell_type": "code",
   "execution_count": 7,
   "id": "69ed51f9-4d9e-419a-a5bb-f14b3bbef687",
   "metadata": {},
   "outputs": [],
   "source": [
    "# vec_word = w2v['King']     -> you will get a vector of 300 dimension in case of google model"
   ]
  },
  {
   "cell_type": "code",
   "execution_count": 9,
   "id": "f6bba8d7-f2a3-4731-a3c0-b61b7bffd3c4",
   "metadata": {},
   "outputs": [],
   "source": [
    "# w2v.similarity('King','Queen') -> how much two words are similar"
   ]
  },
  {
   "cell_type": "code",
   "execution_count": 10,
   "id": "dc3e1490-f2df-49f1-99a7-4bf123b95cd8",
   "metadata": {},
   "outputs": [],
   "source": [
    "# w2v.most_similar('cricket') -> shows which words are more similar and how much similar"
   ]
  },
  {
   "cell_type": "code",
   "execution_count": 12,
   "id": "2d93cbc4-3884-4e2d-adf4-618afdeb3f51",
   "metadata": {},
   "outputs": [],
   "source": [
    "# w2v['King'] - w2v['Men'] + w2v['Women']  -> you can do mathematical operations "
   ]
  },
  {
   "cell_type": "code",
   "execution_count": null,
   "id": "ed48d1de-9f24-4ce0-beff-b36165a0a16b",
   "metadata": {},
   "outputs": [],
   "source": []
  }
 ],
 "metadata": {
  "kernelspec": {
   "display_name": "Python 3 (ipykernel)",
   "language": "python",
   "name": "python3"
  },
  "language_info": {
   "codemirror_mode": {
    "name": "ipython",
    "version": 3
   },
   "file_extension": ".py",
   "mimetype": "text/x-python",
   "name": "python",
   "nbconvert_exporter": "python",
   "pygments_lexer": "ipython3",
   "version": "3.11.7"
  }
 },
 "nbformat": 4,
 "nbformat_minor": 5
}
