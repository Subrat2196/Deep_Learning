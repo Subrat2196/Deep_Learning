{
 "cells": [
  {
   "cell_type": "code",
   "execution_count": 1,
   "id": "4e544fd9-7f51-4881-b0fb-b3e5175b6c7d",
   "metadata": {},
   "outputs": [],
   "source": [
    "import pandas as pd"
   ]
  },
  {
   "cell_type": "code",
   "execution_count": 52,
   "id": "18bfc222-eee7-47ce-98f4-1c7ee5c9c122",
   "metadata": {},
   "outputs": [
    {
     "data": {
      "text/html": [
       "<div>\n",
       "<style scoped>\n",
       "    .dataframe tbody tr th:only-of-type {\n",
       "        vertical-align: middle;\n",
       "    }\n",
       "\n",
       "    .dataframe tbody tr th {\n",
       "        vertical-align: top;\n",
       "    }\n",
       "\n",
       "    .dataframe thead th {\n",
       "        text-align: right;\n",
       "    }\n",
       "</style>\n",
       "<table border=\"1\" class=\"dataframe\">\n",
       "  <thead>\n",
       "    <tr style=\"text-align: right;\">\n",
       "      <th></th>\n",
       "      <th>Label</th>\n",
       "      <th>Message</th>\n",
       "    </tr>\n",
       "  </thead>\n",
       "  <tbody>\n",
       "    <tr>\n",
       "      <th>0</th>\n",
       "      <td>spam</td>\n",
       "      <td>Congratulations! You've won a free ticket to t...</td>\n",
       "    </tr>\n",
       "    <tr>\n",
       "      <th>1</th>\n",
       "      <td>ham</td>\n",
       "      <td>Hey, are we still on for lunch tomorrow?</td>\n",
       "    </tr>\n",
       "    <tr>\n",
       "      <th>2</th>\n",
       "      <td>spam</td>\n",
       "      <td>You have been selected to receive a $1000 Walm...</td>\n",
       "    </tr>\n",
       "    <tr>\n",
       "      <th>3</th>\n",
       "      <td>ham</td>\n",
       "      <td>Can you send me the report by 5 PM today?</td>\n",
       "    </tr>\n",
       "    <tr>\n",
       "      <th>4</th>\n",
       "      <td>spam</td>\n",
       "      <td>Exclusive offer! Get 50% off on your next purc...</td>\n",
       "    </tr>\n",
       "  </tbody>\n",
       "</table>\n",
       "</div>"
      ],
      "text/plain": [
       "  Label                                            Message\n",
       "0  spam  Congratulations! You've won a free ticket to t...\n",
       "1   ham           Hey, are we still on for lunch tomorrow?\n",
       "2  spam  You have been selected to receive a $1000 Walm...\n",
       "3   ham          Can you send me the report by 5 PM today?\n",
       "4  spam  Exclusive offer! Get 50% off on your next purc..."
      ]
     },
     "execution_count": 52,
     "metadata": {},
     "output_type": "execute_result"
    }
   ],
   "source": [
    "messages = pd.read_csv('spam_ham_dataset.csv')\n",
    "messages.head()"
   ]
  },
  {
   "cell_type": "code",
   "execution_count": 46,
   "id": "8c7c7807-6a47-49fa-860b-f2695821eca2",
   "metadata": {},
   "outputs": [],
   "source": [
    "import re"
   ]
  },
  {
   "cell_type": "markdown",
   "id": "36208663-e210-49fc-b936-f29689584501",
   "metadata": {},
   "source": [
    "## Data Cleaning and Preprocessing"
   ]
  },
  {
   "cell_type": "code",
   "execution_count": 9,
   "id": "1a81cf39-1f2f-4c3a-9810-05edf0359dde",
   "metadata": {},
   "outputs": [],
   "source": [
    "import nltk"
   ]
  },
  {
   "cell_type": "code",
   "execution_count": 10,
   "id": "3714c9fb-94fa-43c7-9303-1be74e9da09f",
   "metadata": {},
   "outputs": [],
   "source": [
    "from nltk.corpus import stopwords\n",
    "from nltk.tokenize import word_tokenize,sent_tokenize\n",
    "from nltk.stem import WordNetLemmatizer,SnowballStemmer"
   ]
  },
  {
   "cell_type": "code",
   "execution_count": 48,
   "id": "e2ec7ca5-a878-460e-9536-5f22f0304799",
   "metadata": {},
   "outputs": [
    {
     "data": {
      "text/plain": [
       "['i',\n",
       " 'me',\n",
       " 'my',\n",
       " 'myself',\n",
       " 'we',\n",
       " 'our',\n",
       " 'ours',\n",
       " 'ourselves',\n",
       " 'you',\n",
       " \"you're\",\n",
       " \"you've\",\n",
       " \"you'll\",\n",
       " \"you'd\",\n",
       " 'your',\n",
       " 'yours',\n",
       " 'yourself',\n",
       " 'yourselves',\n",
       " 'he',\n",
       " 'him',\n",
       " 'his',\n",
       " 'himself',\n",
       " 'she',\n",
       " \"she's\",\n",
       " 'her',\n",
       " 'hers',\n",
       " 'herself',\n",
       " 'it',\n",
       " \"it's\",\n",
       " 'its',\n",
       " 'itself',\n",
       " 'they',\n",
       " 'them',\n",
       " 'their',\n",
       " 'theirs',\n",
       " 'themselves',\n",
       " 'what',\n",
       " 'which',\n",
       " 'who',\n",
       " 'whom',\n",
       " 'this',\n",
       " 'that',\n",
       " \"that'll\",\n",
       " 'these',\n",
       " 'those',\n",
       " 'am',\n",
       " 'is',\n",
       " 'are',\n",
       " 'was',\n",
       " 'were',\n",
       " 'be',\n",
       " 'been',\n",
       " 'being',\n",
       " 'have',\n",
       " 'has',\n",
       " 'had',\n",
       " 'having',\n",
       " 'do',\n",
       " 'does',\n",
       " 'did',\n",
       " 'doing',\n",
       " 'a',\n",
       " 'an',\n",
       " 'the',\n",
       " 'and',\n",
       " 'but',\n",
       " 'if',\n",
       " 'or',\n",
       " 'because',\n",
       " 'as',\n",
       " 'until',\n",
       " 'while',\n",
       " 'of',\n",
       " 'at',\n",
       " 'by',\n",
       " 'for',\n",
       " 'with',\n",
       " 'about',\n",
       " 'against',\n",
       " 'between',\n",
       " 'into',\n",
       " 'through',\n",
       " 'during',\n",
       " 'before',\n",
       " 'after',\n",
       " 'above',\n",
       " 'below',\n",
       " 'to',\n",
       " 'from',\n",
       " 'up',\n",
       " 'down',\n",
       " 'in',\n",
       " 'out',\n",
       " 'on',\n",
       " 'off',\n",
       " 'over',\n",
       " 'under',\n",
       " 'again',\n",
       " 'further',\n",
       " 'then',\n",
       " 'once',\n",
       " 'here',\n",
       " 'there',\n",
       " 'when',\n",
       " 'where',\n",
       " 'why',\n",
       " 'how',\n",
       " 'all',\n",
       " 'any',\n",
       " 'both',\n",
       " 'each',\n",
       " 'few',\n",
       " 'more',\n",
       " 'most',\n",
       " 'other',\n",
       " 'some',\n",
       " 'such',\n",
       " 'no',\n",
       " 'nor',\n",
       " 'not',\n",
       " 'only',\n",
       " 'own',\n",
       " 'same',\n",
       " 'so',\n",
       " 'than',\n",
       " 'too',\n",
       " 'very',\n",
       " 's',\n",
       " 't',\n",
       " 'can',\n",
       " 'will',\n",
       " 'just',\n",
       " 'don',\n",
       " \"don't\",\n",
       " 'should',\n",
       " \"should've\",\n",
       " 'now',\n",
       " 'd',\n",
       " 'll',\n",
       " 'm',\n",
       " 'o',\n",
       " 're',\n",
       " 've',\n",
       " 'y',\n",
       " 'ain',\n",
       " 'aren',\n",
       " \"aren't\",\n",
       " 'couldn',\n",
       " \"couldn't\",\n",
       " 'didn',\n",
       " \"didn't\",\n",
       " 'doesn',\n",
       " \"doesn't\",\n",
       " 'hadn',\n",
       " \"hadn't\",\n",
       " 'hasn',\n",
       " \"hasn't\",\n",
       " 'haven',\n",
       " \"haven't\",\n",
       " 'isn',\n",
       " \"isn't\",\n",
       " 'ma',\n",
       " 'mightn',\n",
       " \"mightn't\",\n",
       " 'mustn',\n",
       " \"mustn't\",\n",
       " 'needn',\n",
       " \"needn't\",\n",
       " 'shan',\n",
       " \"shan't\",\n",
       " 'shouldn',\n",
       " \"shouldn't\",\n",
       " 'wasn',\n",
       " \"wasn't\",\n",
       " 'weren',\n",
       " \"weren't\",\n",
       " 'won',\n",
       " \"won't\",\n",
       " 'wouldn',\n",
       " \"wouldn't\"]"
      ]
     },
     "execution_count": 48,
     "metadata": {},
     "output_type": "execute_result"
    }
   ],
   "source": [
    "stp = stopwords.words('english')\n",
    "stp"
   ]
  },
  {
   "cell_type": "code",
   "execution_count": 49,
   "id": "400c98c7-901f-4cac-8f5e-e942e83d10f7",
   "metadata": {},
   "outputs": [],
   "source": [
    "lemma = WordNetLemmatizer()"
   ]
  },
  {
   "cell_type": "code",
   "execution_count": null,
   "id": "e37b65d0-9718-448c-a4b7-54ea99e36541",
   "metadata": {},
   "outputs": [],
   "source": []
  },
  {
   "cell_type": "markdown",
   "id": "883bc1ef-2de2-4c2d-a3f5-a321c1774958",
   "metadata": {},
   "source": [
    "##### Step 1 -> Try to remove all special characters other than a-z and A-Z \n",
    "##### Step 2 -> converting each sentence into lower case\n",
    "##### Step 3 -> making a list of words using split \n",
    "##### Step 4 -> If the word not in stopwords english list we create lemma (root word) for each word\n",
    "##### Step 5 -> joining it again to form a sentence \n",
    "##### Step 6 -> appending each sentence to create a list of sentences"
   ]
  },
  {
   "cell_type": "code",
   "execution_count": 50,
   "id": "6b0ac764-39fd-408e-bc44-c5d453e4b39c",
   "metadata": {},
   "outputs": [],
   "source": [
    "corpus = []\n",
    "for i in range(len(messages)):\n",
    "    review = re.sub('[^a-zA-Z]',' ',messages['Message'][i])\n",
    "    review = review.lower()\n",
    "    review = review.split()\n",
    "    review = [lemma.lemmatize(word) for word in review if word not in stp]\n",
    "    review = ' '.join(review)\n",
    "    corpus.append(review)"
   ]
  },
  {
   "cell_type": "code",
   "execution_count": 51,
   "id": "fce446c0-d675-4d0d-bf66-ab0c3a6581b7",
   "metadata": {},
   "outputs": [
    {
     "data": {
      "text/plain": [
       "['congratulation free ticket bahamas call claim prize',\n",
       " 'hey still lunch tomorrow',\n",
       " 'selected receive walmart gift card click claim',\n",
       " 'send report pm today',\n",
       " 'exclusive offer get next purchase limited time',\n",
       " 'forget meeting tomorrow',\n",
       " 'urgent account compromised click link secure',\n",
       " 'happy birthday hope great day',\n",
       " 'win brand new iphone participate survey get chance win',\n",
       " 'help presentation next meeting']"
      ]
     },
     "execution_count": 51,
     "metadata": {},
     "output_type": "execute_result"
    }
   ],
   "source": [
    "corpus"
   ]
  },
  {
   "cell_type": "markdown",
   "id": "ca413fe5-6e2b-44f2-b5b3-3222cb50fbcb",
   "metadata": {},
   "source": [
    "## Create a bag of words "
   ]
  },
  {
   "cell_type": "markdown",
   "id": "0025a512-006b-41e1-a5c9-c0352a41607a",
   "metadata": {},
   "source": [
    "#### Creating bag of words model"
   ]
  },
  {
   "cell_type": "code",
   "execution_count": 53,
   "id": "aaa573cd-3fa4-4fb7-a194-a1ad42c18266",
   "metadata": {},
   "outputs": [],
   "source": [
    "from sklearn.feature_extraction.text import CountVectorizer"
   ]
  },
  {
   "cell_type": "markdown",
   "id": "e5bb2e00-e412-410d-971e-eec31d746e47",
   "metadata": {},
   "source": [
    "#### CountVectorizer can be used to select different parameters in bag of words"
   ]
  },
  {
   "cell_type": "code",
   "execution_count": 55,
   "id": "9dc9171b-fa2e-4d20-9b8f-d5315164c981",
   "metadata": {},
   "outputs": [],
   "source": [
    "cv = CountVectorizer(max_features=30)"
   ]
  },
  {
   "cell_type": "code",
   "execution_count": 60,
   "id": "852e630e-8ee7-4adf-8529-f08d461dd330",
   "metadata": {},
   "outputs": [],
   "source": [
    "X=cv.fit_transform(corpus).toarray()"
   ]
  },
  {
   "cell_type": "code",
   "execution_count": 61,
   "id": "4002573a-a0a5-4eec-858a-93bccd09acdb",
   "metadata": {},
   "outputs": [
    {
     "data": {
      "text/plain": [
       "array([[0, 1, 0, 0, 1, 0, 0, 0, 0, 0, 0, 0, 0, 0, 1, 0, 0, 0, 0, 0, 0, 0,\n",
       "        0, 1, 0, 0, 0, 0, 0, 0],\n",
       "       [0, 0, 0, 0, 0, 0, 0, 0, 0, 0, 0, 0, 0, 0, 0, 0, 0, 0, 0, 0, 0, 1,\n",
       "        0, 0, 0, 0, 1, 0, 0, 0],\n",
       "       [0, 0, 0, 0, 1, 1, 0, 0, 0, 0, 0, 0, 0, 0, 0, 0, 1, 0, 0, 1, 0, 0,\n",
       "        0, 0, 0, 0, 0, 0, 1, 0],\n",
       "       [0, 0, 0, 0, 0, 0, 0, 0, 0, 0, 0, 0, 1, 0, 0, 0, 0, 1, 0, 0, 1, 0,\n",
       "        0, 0, 0, 1, 0, 0, 0, 0],\n",
       "       [0, 0, 0, 0, 0, 0, 1, 0, 0, 1, 1, 0, 0, 0, 0, 1, 0, 0, 0, 0, 0, 0,\n",
       "        0, 0, 1, 0, 0, 0, 0, 0],\n",
       "       [0, 0, 0, 0, 0, 0, 0, 1, 0, 0, 0, 0, 0, 0, 0, 0, 0, 0, 0, 0, 0, 0,\n",
       "        0, 0, 0, 0, 1, 0, 0, 0],\n",
       "       [1, 0, 0, 0, 0, 1, 0, 0, 0, 0, 0, 0, 0, 0, 0, 0, 0, 0, 1, 0, 0, 0,\n",
       "        0, 0, 0, 0, 0, 1, 0, 0],\n",
       "       [0, 0, 1, 0, 0, 0, 0, 0, 0, 0, 0, 0, 0, 0, 0, 0, 0, 0, 0, 0, 0, 0,\n",
       "        0, 0, 0, 0, 0, 0, 0, 0],\n",
       "       [0, 0, 0, 1, 0, 0, 1, 0, 1, 0, 0, 1, 0, 0, 0, 0, 0, 0, 0, 0, 0, 0,\n",
       "        1, 0, 0, 0, 0, 0, 0, 2],\n",
       "       [0, 0, 0, 0, 0, 0, 0, 1, 0, 1, 0, 0, 0, 1, 0, 0, 0, 0, 0, 0, 0, 0,\n",
       "        0, 0, 0, 0, 0, 0, 0, 0]], dtype=int64)"
      ]
     },
     "execution_count": 61,
     "metadata": {},
     "output_type": "execute_result"
    }
   ],
   "source": [
    "X"
   ]
  },
  {
   "cell_type": "code",
   "execution_count": 63,
   "id": "c8c5cd31-8f22-4234-b57b-47401cf3296d",
   "metadata": {},
   "outputs": [
    {
     "data": {
      "text/plain": [
       "(10, 30)"
      ]
     },
     "execution_count": 63,
     "metadata": {},
     "output_type": "execute_result"
    }
   ],
   "source": [
    "X.shape"
   ]
  },
  {
   "cell_type": "markdown",
   "id": "571b1245-b211-48cb-b0b1-8111c3e9e5d7",
   "metadata": {},
   "source": [
    "The fit_transform method combines two steps:\n",
    "Fit: It learns the vocabulary of the text data. In other words, it finds all the unique words in your text documents and assigns each word a unique index.\n",
    "Transform: It converts the text documents into a matrix where each row represents a document and each column represents a word from the vocabulary. The values in the matrix are the counts of each word in the respective document."
   ]
  },
  {
   "cell_type": "markdown",
   "id": "695f9660-e01b-40bf-9b7d-a62f24714374",
   "metadata": {},
   "source": [
    "### Bag Of Words with ngrams usage"
   ]
  },
  {
   "cell_type": "code",
   "execution_count": 67,
   "id": "218566ae-3aba-46c8-83a7-b10652412d98",
   "metadata": {},
   "outputs": [
    {
     "data": {
      "text/plain": [
       "{'ticket': 23,\n",
       " 'bahamas': 1,\n",
       " 'claim': 4,\n",
       " 'prize': 14,\n",
       " 'still': 21,\n",
       " 'tomorrow': 26,\n",
       " 'selected': 19,\n",
       " 'receive': 16,\n",
       " 'walmart': 28,\n",
       " 'click': 5,\n",
       " 'send': 20,\n",
       " 'report': 17,\n",
       " 'pm': 12,\n",
       " 'today': 25,\n",
       " 'offer': 10,\n",
       " 'get': 6,\n",
       " 'next': 9,\n",
       " 'purchase': 15,\n",
       " 'time': 24,\n",
       " 'meeting': 7,\n",
       " 'urgent': 27,\n",
       " 'account': 0,\n",
       " 'secure': 18,\n",
       " 'birthday': 2,\n",
       " 'win': 29,\n",
       " 'brand': 3,\n",
       " 'new': 8,\n",
       " 'participate': 11,\n",
       " 'survey': 22,\n",
       " 'presentation': 13}"
      ]
     },
     "execution_count": 67,
     "metadata": {},
     "output_type": "execute_result"
    }
   ],
   "source": [
    "cv.vocabulary_"
   ]
  },
  {
   "cell_type": "code",
   "execution_count": 64,
   "id": "552f7bcc-c90d-4651-9263-4dde58395730",
   "metadata": {},
   "outputs": [],
   "source": [
    "from sklearn.feature_extraction.text import CountVectorizer"
   ]
  },
  {
   "cell_type": "code",
   "execution_count": 76,
   "id": "f477ef6f-c95e-424a-be1e-0ff4d2ae5ea3",
   "metadata": {},
   "outputs": [],
   "source": [
    "cv = CountVectorizer(max_features=15,ngram_range=(1,3))"
   ]
  },
  {
   "cell_type": "code",
   "execution_count": 77,
   "id": "9010669d-b85f-4410-856b-478f0a037de8",
   "metadata": {},
   "outputs": [],
   "source": [
    "X=cv.fit_transform(corpus).toarray()"
   ]
  },
  {
   "cell_type": "code",
   "execution_count": 78,
   "id": "2c928ebb-da59-47af-88b5-b67bd6111b4c",
   "metadata": {},
   "outputs": [
    {
     "data": {
      "text/plain": [
       "array([[0, 1, 0, 0, 0, 0, 0, 0, 0, 0, 0, 0, 1, 0, 0],\n",
       "       [0, 0, 0, 0, 0, 0, 0, 0, 0, 0, 0, 0, 0, 1, 0],\n",
       "       [0, 1, 1, 0, 0, 0, 0, 0, 0, 0, 0, 0, 0, 0, 0],\n",
       "       [0, 0, 0, 0, 0, 0, 0, 0, 1, 0, 0, 0, 0, 0, 0],\n",
       "       [0, 0, 0, 1, 0, 1, 0, 0, 0, 0, 0, 0, 0, 0, 0],\n",
       "       [0, 0, 0, 0, 1, 0, 0, 0, 0, 0, 0, 0, 0, 1, 0],\n",
       "       [1, 0, 1, 0, 0, 0, 0, 0, 0, 0, 0, 0, 0, 0, 0],\n",
       "       [0, 0, 0, 0, 0, 0, 0, 0, 0, 0, 0, 0, 0, 0, 0],\n",
       "       [0, 0, 0, 1, 0, 0, 1, 1, 0, 0, 0, 0, 0, 0, 2],\n",
       "       [0, 0, 0, 0, 1, 1, 0, 0, 0, 1, 1, 1, 0, 0, 0]], dtype=int64)"
      ]
     },
     "execution_count": 78,
     "metadata": {},
     "output_type": "execute_result"
    }
   ],
   "source": [
    "X"
   ]
  },
  {
   "cell_type": "code",
   "execution_count": 79,
   "id": "5435b20a-fe41-4ab1-8c60-51a292c03ab4",
   "metadata": {},
   "outputs": [
    {
     "data": {
      "text/plain": [
       "{'claim': 1,\n",
       " 'prize': 12,\n",
       " 'tomorrow': 13,\n",
       " 'click': 2,\n",
       " 'pm': 8,\n",
       " 'get': 3,\n",
       " 'next': 5,\n",
       " 'meeting': 4,\n",
       " 'account': 0,\n",
       " 'win': 14,\n",
       " 'participate survey': 6,\n",
       " 'participate survey get': 7,\n",
       " 'presentation': 9,\n",
       " 'presentation next': 10,\n",
       " 'presentation next meeting': 11}"
      ]
     },
     "execution_count": 79,
     "metadata": {},
     "output_type": "execute_result"
    }
   ],
   "source": [
    "cv.vocabulary_"
   ]
  },
  {
   "cell_type": "markdown",
   "id": "dfe79dcc-de56-4e75-97fb-db07d33e07e6",
   "metadata": {},
   "source": [
    "#### We can see in vocabulary we have combination of 2 and 3 words also since ngrams_range from 1 to 3 combinations"
   ]
  },
  {
   "cell_type": "code",
   "execution_count": null,
   "id": "cc6ec9a3-f8a5-4887-a670-ccc4deb04748",
   "metadata": {},
   "outputs": [],
   "source": []
  }
 ],
 "metadata": {
  "kernelspec": {
   "display_name": "Python 3 (ipykernel)",
   "language": "python",
   "name": "python3"
  },
  "language_info": {
   "codemirror_mode": {
    "name": "ipython",
    "version": 3
   },
   "file_extension": ".py",
   "mimetype": "text/x-python",
   "name": "python",
   "nbconvert_exporter": "python",
   "pygments_lexer": "ipython3",
   "version": "3.11.7"
  }
 },
 "nbformat": 4,
 "nbformat_minor": 5
}
