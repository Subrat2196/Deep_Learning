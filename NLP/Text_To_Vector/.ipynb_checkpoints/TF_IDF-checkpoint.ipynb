{
 "cells": [
  {
   "cell_type": "code",
   "execution_count": 1,
   "id": "eddb9888-8272-4699-a095-4edc1dbd1adb",
   "metadata": {},
   "outputs": [],
   "source": [
    "import pandas as pd"
   ]
  },
  {
   "cell_type": "code",
   "execution_count": 2,
   "id": "74a6dfd9-fa93-40ca-adf3-b60a0c37643b",
   "metadata": {},
   "outputs": [
    {
     "data": {
      "text/html": [
       "<div>\n",
       "<style scoped>\n",
       "    .dataframe tbody tr th:only-of-type {\n",
       "        vertical-align: middle;\n",
       "    }\n",
       "\n",
       "    .dataframe tbody tr th {\n",
       "        vertical-align: top;\n",
       "    }\n",
       "\n",
       "    .dataframe thead th {\n",
       "        text-align: right;\n",
       "    }\n",
       "</style>\n",
       "<table border=\"1\" class=\"dataframe\">\n",
       "  <thead>\n",
       "    <tr style=\"text-align: right;\">\n",
       "      <th></th>\n",
       "      <th>Label</th>\n",
       "      <th>Message</th>\n",
       "    </tr>\n",
       "  </thead>\n",
       "  <tbody>\n",
       "    <tr>\n",
       "      <th>0</th>\n",
       "      <td>spam</td>\n",
       "      <td>Congratulations! You've won a free ticket to t...</td>\n",
       "    </tr>\n",
       "    <tr>\n",
       "      <th>1</th>\n",
       "      <td>ham</td>\n",
       "      <td>Hey, are we still on for lunch tomorrow?</td>\n",
       "    </tr>\n",
       "    <tr>\n",
       "      <th>2</th>\n",
       "      <td>spam</td>\n",
       "      <td>You have been selected to receive a $1000 Walm...</td>\n",
       "    </tr>\n",
       "    <tr>\n",
       "      <th>3</th>\n",
       "      <td>ham</td>\n",
       "      <td>Can you send me the report by 5 PM today?</td>\n",
       "    </tr>\n",
       "    <tr>\n",
       "      <th>4</th>\n",
       "      <td>spam</td>\n",
       "      <td>Exclusive offer! Get 50% off on your next purc...</td>\n",
       "    </tr>\n",
       "  </tbody>\n",
       "</table>\n",
       "</div>"
      ],
      "text/plain": [
       "  Label                                            Message\n",
       "0  spam  Congratulations! You've won a free ticket to t...\n",
       "1   ham           Hey, are we still on for lunch tomorrow?\n",
       "2  spam  You have been selected to receive a $1000 Walm...\n",
       "3   ham          Can you send me the report by 5 PM today?\n",
       "4  spam  Exclusive offer! Get 50% off on your next purc..."
      ]
     },
     "execution_count": 2,
     "metadata": {},
     "output_type": "execute_result"
    }
   ],
   "source": [
    "messages = pd.read_csv('spam_ham_dataset.csv')\n",
    "messages.head()"
   ]
  },
  {
   "cell_type": "markdown",
   "id": "de530b38-e8b8-4862-9bf2-5d7a1f85489b",
   "metadata": {},
   "source": [
    "### Data Cleaning and Preprocessing"
   ]
  },
  {
   "cell_type": "code",
   "execution_count": 4,
   "id": "d1c482b3-9855-461f-8459-0d0f143edd21",
   "metadata": {},
   "outputs": [],
   "source": [
    "from nltk.stem import WordNetLemmatizer\n",
    "from nltk.corpus import stopwords\n",
    "from nltk.tokenize import word_tokenize,sent_tokenize\n",
    "import re"
   ]
  },
  {
   "cell_type": "code",
   "execution_count": 5,
   "id": "d3b56383-00d9-424d-a67f-32f5cf32410f",
   "metadata": {},
   "outputs": [],
   "source": [
    "lemma = WordNetLemmatizer()"
   ]
  },
  {
   "cell_type": "code",
   "execution_count": 7,
   "id": "1d5ac167-be9d-411f-a7df-a32a6f8f2809",
   "metadata": {},
   "outputs": [],
   "source": [
    "corpus=[]\n",
    "for i in range(len(messages)):\n",
    "    words = re.sub(\"[^a-zA-Z]\",\" \",messages['Message'][i]) #since ^ is used inside character class [] , it will negate everything\n",
    "    words = words.lower()\n",
    "    words = words.split()\n",
    "    words = [lemma.lemmatize(word) for word in words if word not in stopwords.words('english')]\n",
    "    words = \" \".join(words)\n",
    "    corpus.append(words)"
   ]
  },
  {
   "cell_type": "code",
   "execution_count": 8,
   "id": "97afc98d-1f6b-4db9-8115-4e1fc6f5e449",
   "metadata": {},
   "outputs": [
    {
     "data": {
      "text/plain": [
       "['congratulation free ticket bahamas call claim prize',\n",
       " 'hey still lunch tomorrow',\n",
       " 'selected receive walmart gift card click claim',\n",
       " 'send report pm today',\n",
       " 'exclusive offer get next purchase limited time',\n",
       " 'forget meeting tomorrow',\n",
       " 'urgent account compromised click link secure',\n",
       " 'happy birthday hope great day',\n",
       " 'win brand new iphone participate survey get chance win',\n",
       " 'help presentation next meeting']"
      ]
     },
     "execution_count": 8,
     "metadata": {},
     "output_type": "execute_result"
    }
   ],
   "source": [
    "corpus"
   ]
  },
  {
   "cell_type": "code",
   "execution_count": 9,
   "id": "98a7b603-1d2e-460a-b3e6-a51dfb26e73f",
   "metadata": {},
   "outputs": [],
   "source": [
    "from sklearn.feature_extraction.text import TfidfVectorizer"
   ]
  },
  {
   "cell_type": "code",
   "execution_count": 10,
   "id": "a07ee929-0dac-48d6-97e7-644e14509661",
   "metadata": {},
   "outputs": [],
   "source": [
    "tf_idf = TfidfVectorizer(max_features=30)"
   ]
  },
  {
   "cell_type": "code",
   "execution_count": 12,
   "id": "347515ae-3e52-4f74-bce1-4e6c11d6ad58",
   "metadata": {},
   "outputs": [
    {
     "data": {
      "text/plain": [
       "array([[0.        , 0.5182909 , 0.        , 0.        , 0.44059462,\n",
       "        0.        , 0.        , 0.        , 0.        , 0.        ,\n",
       "        0.        , 0.        , 0.        , 0.        , 0.5182909 ,\n",
       "        0.        , 0.        , 0.        , 0.        , 0.        ,\n",
       "        0.        , 0.        , 0.        , 0.5182909 , 0.        ,\n",
       "        0.        , 0.        , 0.        , 0.        , 0.        ],\n",
       "       [0.        , 0.        , 0.        , 0.        , 0.        ,\n",
       "        0.        , 0.        , 0.        , 0.        , 0.        ,\n",
       "        0.        , 0.        , 0.        , 0.        , 0.        ,\n",
       "        0.        , 0.        , 0.        , 0.        , 0.        ,\n",
       "        0.        , 0.76190497, 0.        , 0.        , 0.        ,\n",
       "        0.        , 0.64768883, 0.        , 0.        , 0.        ],\n",
       "       [0.        , 0.        , 0.        , 0.        , 0.40319445,\n",
       "        0.40319445, 0.        , 0.        , 0.        , 0.        ,\n",
       "        0.        , 0.        , 0.        , 0.        , 0.        ,\n",
       "        0.        , 0.47429543, 0.        , 0.        , 0.47429543,\n",
       "        0.        , 0.        , 0.        , 0.        , 0.        ,\n",
       "        0.        , 0.        , 0.        , 0.47429543, 0.        ],\n",
       "       [0.        , 0.        , 0.        , 0.        , 0.        ,\n",
       "        0.        , 0.        , 0.        , 0.        , 0.        ,\n",
       "        0.        , 0.        , 0.5       , 0.        , 0.        ,\n",
       "        0.        , 0.        , 0.5       , 0.        , 0.        ,\n",
       "        0.5       , 0.        , 0.        , 0.        , 0.        ,\n",
       "        0.5       , 0.        , 0.        , 0.        , 0.        ],\n",
       "       [0.        , 0.        , 0.        , 0.        , 0.        ,\n",
       "        0.        , 0.40319445, 0.        , 0.        , 0.40319445,\n",
       "        0.47429543, 0.        , 0.        , 0.        , 0.        ,\n",
       "        0.47429543, 0.        , 0.        , 0.        , 0.        ,\n",
       "        0.        , 0.        , 0.        , 0.        , 0.47429543,\n",
       "        0.        , 0.        , 0.        , 0.        , 0.        ],\n",
       "       [0.        , 0.        , 0.        , 0.        , 0.        ,\n",
       "        0.        , 0.        , 0.70710678, 0.        , 0.        ,\n",
       "        0.        , 0.        , 0.        , 0.        , 0.        ,\n",
       "        0.        , 0.        , 0.        , 0.        , 0.        ,\n",
       "        0.        , 0.        , 0.        , 0.        , 0.        ,\n",
       "        0.        , 0.70710678, 0.        , 0.        , 0.        ],\n",
       "       [0.5182909 , 0.        , 0.        , 0.        , 0.        ,\n",
       "        0.44059462, 0.        , 0.        , 0.        , 0.        ,\n",
       "        0.        , 0.        , 0.        , 0.        , 0.        ,\n",
       "        0.        , 0.        , 0.        , 0.5182909 , 0.        ,\n",
       "        0.        , 0.        , 0.        , 0.        , 0.        ,\n",
       "        0.        , 0.        , 0.5182909 , 0.        , 0.        ],\n",
       "       [0.        , 0.        , 1.        , 0.        , 0.        ,\n",
       "        0.        , 0.        , 0.        , 0.        , 0.        ,\n",
       "        0.        , 0.        , 0.        , 0.        , 0.        ,\n",
       "        0.        , 0.        , 0.        , 0.        , 0.        ,\n",
       "        0.        , 0.        , 0.        , 0.        , 0.        ,\n",
       "        0.        , 0.        , 0.        , 0.        , 0.        ],\n",
       "       [0.        , 0.        , 0.        , 0.33859118, 0.        ,\n",
       "        0.        , 0.28783344, 0.        , 0.33859118, 0.        ,\n",
       "        0.        , 0.33859118, 0.        , 0.        , 0.        ,\n",
       "        0.        , 0.        , 0.        , 0.        , 0.        ,\n",
       "        0.        , 0.        , 0.33859118, 0.        , 0.        ,\n",
       "        0.        , 0.        , 0.        , 0.        , 0.67718237],\n",
       "       [0.        , 0.        , 0.        , 0.        , 0.        ,\n",
       "        0.        , 0.        , 0.54362395, 0.        , 0.54362395,\n",
       "        0.        , 0.        , 0.        , 0.63948886, 0.        ,\n",
       "        0.        , 0.        , 0.        , 0.        , 0.        ,\n",
       "        0.        , 0.        , 0.        , 0.        , 0.        ,\n",
       "        0.        , 0.        , 0.        , 0.        , 0.        ]])"
      ]
     },
     "execution_count": 12,
     "metadata": {},
     "output_type": "execute_result"
    }
   ],
   "source": [
    "X=tf_idf.fit_transform(corpus).toarray()\n",
    "X"
   ]
  },
  {
   "cell_type": "code",
   "execution_count": 13,
   "id": "9fcb7604-ca02-4041-af82-a6938c8fcb9e",
   "metadata": {},
   "outputs": [
    {
     "data": {
      "text/plain": [
       "{'ticket': 23,\n",
       " 'bahamas': 1,\n",
       " 'claim': 4,\n",
       " 'prize': 14,\n",
       " 'still': 21,\n",
       " 'tomorrow': 26,\n",
       " 'selected': 19,\n",
       " 'receive': 16,\n",
       " 'walmart': 28,\n",
       " 'click': 5,\n",
       " 'send': 20,\n",
       " 'report': 17,\n",
       " 'pm': 12,\n",
       " 'today': 25,\n",
       " 'offer': 10,\n",
       " 'get': 6,\n",
       " 'next': 9,\n",
       " 'purchase': 15,\n",
       " 'time': 24,\n",
       " 'meeting': 7,\n",
       " 'urgent': 27,\n",
       " 'account': 0,\n",
       " 'secure': 18,\n",
       " 'birthday': 2,\n",
       " 'win': 29,\n",
       " 'brand': 3,\n",
       " 'new': 8,\n",
       " 'participate': 11,\n",
       " 'survey': 22,\n",
       " 'presentation': 13}"
      ]
     },
     "execution_count": 13,
     "metadata": {},
     "output_type": "execute_result"
    }
   ],
   "source": [
    "tf_idf.vocabulary_"
   ]
  },
  {
   "cell_type": "code",
   "execution_count": null,
   "id": "db072f0c-3232-421a-922a-73471349cff8",
   "metadata": {},
   "outputs": [],
   "source": []
  }
 ],
 "metadata": {
  "kernelspec": {
   "display_name": "Python 3 (ipykernel)",
   "language": "python",
   "name": "python3"
  },
  "language_info": {
   "codemirror_mode": {
    "name": "ipython",
    "version": 3
   },
   "file_extension": ".py",
   "mimetype": "text/x-python",
   "name": "python",
   "nbconvert_exporter": "python",
   "pygments_lexer": "ipython3",
   "version": "3.11.7"
  }
 },
 "nbformat": 4,
 "nbformat_minor": 5
}
