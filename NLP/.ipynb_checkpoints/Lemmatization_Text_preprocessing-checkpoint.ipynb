{
 "cells": [
  {
   "cell_type": "code",
   "execution_count": 20,
   "id": "fa503c34-2b8b-4d7c-b60a-2b640878bb6d",
   "metadata": {},
   "outputs": [
    {
     "name": "stderr",
     "output_type": "stream",
     "text": [
      "[nltk_data] Downloading package wordnet to\n",
      "[nltk_data]     C:\\Users\\Anonymous\\AppData\\Roaming\\nltk_data...\n",
      "[nltk_data]   Package wordnet is already up-to-date!\n"
     ]
    },
    {
     "data": {
      "text/plain": [
       "True"
      ]
     },
     "execution_count": 20,
     "metadata": {},
     "output_type": "execute_result"
    }
   ],
   "source": [
    "import nltk\n",
    "from nltk.stem import WordNetLemmatizer\n",
    "nltk.download('wordnet')"
   ]
  },
  {
   "cell_type": "markdown",
   "id": "3b280af1-f71e-4d23-8e7b-2ef5ed4f53f2",
   "metadata": {},
   "source": [
    "## WordNetLematizer()"
   ]
  },
  {
   "cell_type": "code",
   "execution_count": 21,
   "id": "8047c155-d8d1-4579-b730-fd078e4d66fc",
   "metadata": {},
   "outputs": [
    {
     "data": {
      "text/plain": [
       "'go'"
      ]
     },
     "execution_count": 21,
     "metadata": {},
     "output_type": "execute_result"
    }
   ],
   "source": [
    "lemma = WordNetLemmatizer()\n",
    "lemma.lemmatize('going','v')"
   ]
  },
  {
   "cell_type": "code",
   "execution_count": 24,
   "id": "88dc7128-64d0-42ba-931d-766a5840cade",
   "metadata": {},
   "outputs": [],
   "source": [
    "words = ['hello','printer','printing','print','prints','portfolio','run','runner','running','runs','eating','eats','eaten','goes','fairly','congratulations']"
   ]
  },
  {
   "cell_type": "code",
   "execution_count": 25,
   "id": "b50fcbe2-beca-4ef8-a7bf-13b51e753725",
   "metadata": {},
   "outputs": [
    {
     "name": "stdout",
     "output_type": "stream",
     "text": [
      "hello----------->hello\n",
      "printer----------->printer\n",
      "printing----------->print\n",
      "print----------->print\n",
      "prints----------->print\n",
      "portfolio----------->portfolio\n",
      "run----------->run\n",
      "runner----------->runner\n",
      "running----------->run\n",
      "runs----------->run\n",
      "eating----------->eat\n",
      "eats----------->eat\n",
      "eaten----------->eat\n",
      "goes----------->go\n",
      "fairly----------->fairly\n",
      "congratulations----------->congratulations\n"
     ]
    }
   ],
   "source": [
    "for word in words:\n",
    "    print(word+'----------->'+lemma.lemmatize(word,pos='v'))"
   ]
  },
  {
   "cell_type": "code",
   "execution_count": null,
   "id": "d9c0dfb2-6007-4187-87ab-0f22757a6d7a",
   "metadata": {},
   "outputs": [],
   "source": []
  },
  {
   "cell_type": "markdown",
   "id": "db0ba57e-5d92-4ba6-8b65-d5ce01d56a2e",
   "metadata": {},
   "source": [
    "### Here Lemmatization gives the correct output"
   ]
  },
  {
   "cell_type": "code",
   "execution_count": null,
   "id": "076e9761-47ab-44e2-8ef2-2d09f684dfbf",
   "metadata": {},
   "outputs": [],
   "source": []
  }
 ],
 "metadata": {
  "kernelspec": {
   "display_name": "Python 3 (ipykernel)",
   "language": "python",
   "name": "python3"
  },
  "language_info": {
   "codemirror_mode": {
    "name": "ipython",
    "version": 3
   },
   "file_extension": ".py",
   "mimetype": "text/x-python",
   "name": "python",
   "nbconvert_exporter": "python",
   "pygments_lexer": "ipython3",
   "version": "3.11.7"
  }
 },
 "nbformat": 4,
 "nbformat_minor": 5
}
