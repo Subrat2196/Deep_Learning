{
 "cells": [
  {
   "cell_type": "markdown",
   "id": "d751f70a-82d5-4dc0-abea-1d3be8974683",
   "metadata": {},
   "source": [
    "## List of different POS tags"
   ]
  },
  {
   "cell_type": "code",
   "execution_count": 6,
   "id": "cacd7b26-98d7-49c8-8bc4-342067d563eb",
   "metadata": {},
   "outputs": [],
   "source": [
    "import nltk"
   ]
  },
  {
   "cell_type": "code",
   "execution_count": 7,
   "id": "0dcf81c9-0359-43cf-9fe2-b64591a25363",
   "metadata": {},
   "outputs": [],
   "source": [
    "from nltk import pos_tag"
   ]
  },
  {
   "cell_type": "markdown",
   "id": "be54ba2b-51a8-434c-baab-b6868a817dc0",
   "metadata": {},
   "source": [
    "#### Different POS_tags\n",
    "ADJ  adjective\r\n",
    "AD  adposition\r",
    "A V: adver\r\n",
    " UX: auxiliar\r\n",
    "C ONJ: coordinating conjunction \n",
    "DET: determiner \n",
    "INTJ: interjectio \r\n",
    "NOUN: n un\r\n",
    "NUM: nume al\r\n",
    "PART: part cle\r\n",
    "PRON: pro oun\r\n",
    "PROPN: proper noun\r\n",
    "PUNCT: punct  ation\r\n",
    "SCONJ: subordinating co junction\r\n",
    "SY : symbo \r\n",
    "VERB: verb\r\n",
    "X: other"
   ]
  },
  {
   "cell_type": "markdown",
   "id": "0d9ffec7-fb6f-4991-b7cd-7ae93330925d",
   "metadata": {},
   "source": [
    "#### what we need to do is inside a paragraph we need to find the pos_tag for each and every word after removing the stopwords"
   ]
  },
  {
   "cell_type": "code",
   "execution_count": 13,
   "id": "b520f928-d19a-4d03-acc7-00c75d587ecd",
   "metadata": {},
   "outputs": [],
   "source": [
    "corpus = ''' India must stand up to the world. Because I believe that unless India stands up to the world, no one will respect us. Only strength respects strength. We must be strong not only as a military power but also as an economic power. Both must go hand-in-hand. My good fortune was to have worked with three great minds. Dr. Vikram Sarabhai of the Dept. of space, Professor Satish Dhawan, who succeeded him and Dr. Brahm Prakash, father of nuclear material. I was lucky to have worked with all three of them closely and consider this the great opportunity of my life. I see four milestones in my career:\n",
    "\n",
    "Twenty years I spent in ISRO. I was given the opportunity to be the project director for India’s first satellite launch vehicle, SLV3. The one that launched Rohini. These years played a very important role in my life of Scienc. After my ISRO years, I joined DRDO and got a chance to be the part of India’s guided missile program. It was my second bliss when Agni met its mission requirements in 1994.\n",
    "\n",
    "The Dept. of Atomic Energy and DRDO had this tremendous partnership in the recent nuclear tests, on May 11 and 13. This was the third bliss. The joy of participating with my team in these nuclear tests and proving to the world that India can make it, that we are no longer a developing nation but one of them. It made me feel very proud as an Indian. The fact that we have now developed for Agni a re-entry structure, for which we have developed this new material. A very light material called carbon-carbon.\n",
    "\n",
    "One day an orthopedic surgeon from Nizam Institute of Medical Sciences visited my laboratory. He lifted the material and found it so light that he took me to his hospital and showed me his patients. There were these little girls and boys with heavy metallic calipers weighing over three kg. each, dragging their feet around.\n",
    "\n",
    "He said to me : Please remove the pain of my patients. In three weeks, we made these floor reaction Orthosis 300-gram calipers and took them to the orthopedic center. The children didn’t believe their eyes. From dragging around a three kg. load on their legs, they could now move around! Their parents had tears in their eyes. That was my fourth bliss!\n",
    "\n",
    "Why is the media here so negative? Why are we in India so embarrassed to recognise our own strengths, our achievements? We are such a great nation. We have so many amazing success stories but we refuse to acknowledge them. W \n",
    "'''"
   ]
  },
  {
   "cell_type": "code",
   "execution_count": 14,
   "id": "987b5a12-a794-44d5-94ba-117e62c5695d",
   "metadata": {},
   "outputs": [],
   "source": [
    "from nltk.tokenize import sent_tokenize,word_tokenize"
   ]
  },
  {
   "cell_type": "code",
   "execution_count": 16,
   "id": "6f13b1fb-3fe2-4f4a-a94c-9e72e2d0e2cf",
   "metadata": {},
   "outputs": [
    {
     "name": "stderr",
     "output_type": "stream",
     "text": [
      "[nltk_data] Downloading package stopwords to\n",
      "[nltk_data]     C:\\Users\\Anonymous\\AppData\\Roaming\\nltk_data...\n",
      "[nltk_data]   Package stopwords is already up-to-date!\n"
     ]
    },
    {
     "data": {
      "text/plain": [
       "True"
      ]
     },
     "execution_count": 16,
     "metadata": {},
     "output_type": "execute_result"
    }
   ],
   "source": [
    "from nltk.corpus import stopwords \n",
    "nltk.download('stopwords')"
   ]
  },
  {
   "cell_type": "code",
   "execution_count": 18,
   "id": "3da739f6-de71-48b7-b327-eccdc9513b59",
   "metadata": {},
   "outputs": [
    {
     "data": {
      "text/plain": [
       "['i',\n",
       " 'me',\n",
       " 'my',\n",
       " 'myself',\n",
       " 'we',\n",
       " 'our',\n",
       " 'ours',\n",
       " 'ourselves',\n",
       " 'you',\n",
       " \"you're\",\n",
       " \"you've\",\n",
       " \"you'll\",\n",
       " \"you'd\",\n",
       " 'your',\n",
       " 'yours',\n",
       " 'yourself',\n",
       " 'yourselves',\n",
       " 'he',\n",
       " 'him',\n",
       " 'his',\n",
       " 'himself',\n",
       " 'she',\n",
       " \"she's\",\n",
       " 'her',\n",
       " 'hers',\n",
       " 'herself',\n",
       " 'it',\n",
       " \"it's\",\n",
       " 'its',\n",
       " 'itself',\n",
       " 'they',\n",
       " 'them',\n",
       " 'their',\n",
       " 'theirs',\n",
       " 'themselves',\n",
       " 'what',\n",
       " 'which',\n",
       " 'who',\n",
       " 'whom',\n",
       " 'this',\n",
       " 'that',\n",
       " \"that'll\",\n",
       " 'these',\n",
       " 'those',\n",
       " 'am',\n",
       " 'is',\n",
       " 'are',\n",
       " 'was',\n",
       " 'were',\n",
       " 'be',\n",
       " 'been',\n",
       " 'being',\n",
       " 'have',\n",
       " 'has',\n",
       " 'had',\n",
       " 'having',\n",
       " 'do',\n",
       " 'does',\n",
       " 'did',\n",
       " 'doing',\n",
       " 'a',\n",
       " 'an',\n",
       " 'the',\n",
       " 'and',\n",
       " 'but',\n",
       " 'if',\n",
       " 'or',\n",
       " 'because',\n",
       " 'as',\n",
       " 'until',\n",
       " 'while',\n",
       " 'of',\n",
       " 'at',\n",
       " 'by',\n",
       " 'for',\n",
       " 'with',\n",
       " 'about',\n",
       " 'against',\n",
       " 'between',\n",
       " 'into',\n",
       " 'through',\n",
       " 'during',\n",
       " 'before',\n",
       " 'after',\n",
       " 'above',\n",
       " 'below',\n",
       " 'to',\n",
       " 'from',\n",
       " 'up',\n",
       " 'down',\n",
       " 'in',\n",
       " 'out',\n",
       " 'on',\n",
       " 'off',\n",
       " 'over',\n",
       " 'under',\n",
       " 'again',\n",
       " 'further',\n",
       " 'then',\n",
       " 'once',\n",
       " 'here',\n",
       " 'there',\n",
       " 'when',\n",
       " 'where',\n",
       " 'why',\n",
       " 'how',\n",
       " 'all',\n",
       " 'any',\n",
       " 'both',\n",
       " 'each',\n",
       " 'few',\n",
       " 'more',\n",
       " 'most',\n",
       " 'other',\n",
       " 'some',\n",
       " 'such',\n",
       " 'no',\n",
       " 'nor',\n",
       " 'not',\n",
       " 'only',\n",
       " 'own',\n",
       " 'same',\n",
       " 'so',\n",
       " 'than',\n",
       " 'too',\n",
       " 'very',\n",
       " 's',\n",
       " 't',\n",
       " 'can',\n",
       " 'will',\n",
       " 'just',\n",
       " 'don',\n",
       " \"don't\",\n",
       " 'should',\n",
       " \"should've\",\n",
       " 'now',\n",
       " 'd',\n",
       " 'll',\n",
       " 'm',\n",
       " 'o',\n",
       " 're',\n",
       " 've',\n",
       " 'y',\n",
       " 'ain',\n",
       " 'aren',\n",
       " \"aren't\",\n",
       " 'couldn',\n",
       " \"couldn't\",\n",
       " 'didn',\n",
       " \"didn't\",\n",
       " 'doesn',\n",
       " \"doesn't\",\n",
       " 'hadn',\n",
       " \"hadn't\",\n",
       " 'hasn',\n",
       " \"hasn't\",\n",
       " 'haven',\n",
       " \"haven't\",\n",
       " 'isn',\n",
       " \"isn't\",\n",
       " 'ma',\n",
       " 'mightn',\n",
       " \"mightn't\",\n",
       " 'mustn',\n",
       " \"mustn't\",\n",
       " 'needn',\n",
       " \"needn't\",\n",
       " 'shan',\n",
       " \"shan't\",\n",
       " 'shouldn',\n",
       " \"shouldn't\",\n",
       " 'wasn',\n",
       " \"wasn't\",\n",
       " 'weren',\n",
       " \"weren't\",\n",
       " 'won',\n",
       " \"won't\",\n",
       " 'wouldn',\n",
       " \"wouldn't\"]"
      ]
     },
     "execution_count": 18,
     "metadata": {},
     "output_type": "execute_result"
    }
   ],
   "source": [
    "stop_words = stopwords.words('english')\n",
    "stop_words"
   ]
  },
  {
   "cell_type": "code",
   "execution_count": 19,
   "id": "c953398c-65a0-486f-b63a-e96a8b0e4ea5",
   "metadata": {},
   "outputs": [
    {
     "data": {
      "text/plain": [
       "[' India must stand up to the world.',\n",
       " 'Because I believe that unless India stands up to the world, no one will respect us.',\n",
       " 'Only strength respects strength.',\n",
       " 'We must be strong not only as a military power but also as an economic power.',\n",
       " 'Both must go hand-in-hand.',\n",
       " 'My good fortune was to have worked with three great minds.',\n",
       " 'Dr. Vikram Sarabhai of the Dept.',\n",
       " 'of space, Professor Satish Dhawan, who succeeded him and Dr. Brahm Prakash, father of nuclear material.',\n",
       " 'I was lucky to have worked with all three of them closely and consider this the great opportunity of my life.',\n",
       " 'I see four milestones in my career:\\n\\nTwenty years I spent in ISRO.',\n",
       " 'I was given the opportunity to be the project director for India’s first satellite launch vehicle, SLV3.',\n",
       " 'The one that launched Rohini.',\n",
       " 'These years played a very important role in my life of Scienc.',\n",
       " 'After my ISRO years, I joined DRDO and got a chance to be the part of India’s guided missile program.',\n",
       " 'It was my second bliss when Agni met its mission requirements in 1994.',\n",
       " 'The Dept.',\n",
       " 'of Atomic Energy and DRDO had this tremendous partnership in the recent nuclear tests, on May 11 and 13.',\n",
       " 'This was the third bliss.',\n",
       " 'The joy of participating with my team in these nuclear tests and proving to the world that India can make it, that we are no longer a developing nation but one of them.',\n",
       " 'It made me feel very proud as an Indian.',\n",
       " 'The fact that we have now developed for Agni a re-entry structure, for which we have developed this new material.',\n",
       " 'A very light material called carbon-carbon.',\n",
       " 'One day an orthopedic surgeon from Nizam Institute of Medical Sciences visited my laboratory.',\n",
       " 'He lifted the material and found it so light that he took me to his hospital and showed me his patients.',\n",
       " 'There were these little girls and boys with heavy metallic calipers weighing over three kg.',\n",
       " 'each, dragging their feet around.',\n",
       " 'He said to me : Please remove the pain of my patients.',\n",
       " 'In three weeks, we made these floor reaction Orthosis 300-gram calipers and took them to the orthopedic center.',\n",
       " 'The children didn’t believe their eyes.',\n",
       " 'From dragging around a three kg.',\n",
       " 'load on their legs, they could now move around!',\n",
       " 'Their parents had tears in their eyes.',\n",
       " 'That was my fourth bliss!',\n",
       " 'Why is the media here so negative?',\n",
       " 'Why are we in India so embarrassed to recognise our own strengths, our achievements?',\n",
       " 'We are such a great nation.',\n",
       " 'We have so many amazing success stories but we refuse to acknowledge them.',\n",
       " 'W']"
      ]
     },
     "execution_count": 19,
     "metadata": {},
     "output_type": "execute_result"
    }
   ],
   "source": [
    "sentences = sent_tokenize(corpus)\n",
    "sentences"
   ]
  },
  {
   "cell_type": "code",
   "execution_count": 22,
   "id": "6a192bae-c28d-4cfa-9747-579eac2d28ea",
   "metadata": {},
   "outputs": [
    {
     "name": "stderr",
     "output_type": "stream",
     "text": [
      "[nltk_data] Downloading package averaged_perceptron_tagger to\n",
      "[nltk_data]     C:\\Users\\Anonymous\\AppData\\Roaming\\nltk_data...\n",
      "[nltk_data]   Unzipping taggers\\averaged_perceptron_tagger.zip.\n"
     ]
    },
    {
     "data": {
      "text/plain": [
       "True"
      ]
     },
     "execution_count": 22,
     "metadata": {},
     "output_type": "execute_result"
    }
   ],
   "source": [
    "nltk.download('averaged_perceptron_tagger')"
   ]
  },
  {
   "cell_type": "code",
   "execution_count": 23,
   "id": "7a0fc801-55b8-402c-821a-517ea69e6042",
   "metadata": {},
   "outputs": [
    {
     "name": "stdout",
     "output_type": "stream",
     "text": [
      "[('India', 'NNP'), ('must', 'MD'), ('stand', 'VB'), ('world', 'NN'), ('.', '.')]\n",
      "[('Because', 'IN'), ('I', 'PRP'), ('believe', 'VBP'), ('unless', 'IN'), ('India', 'NNP'), ('stands', 'VBZ'), ('world', 'NN'), (',', ','), ('one', 'CD'), ('respect', 'NN'), ('us', 'PRP'), ('.', '.')]\n",
      "[('Only', 'RB'), ('strength', 'NN'), ('respects', 'NNS'), ('strength', 'NN'), ('.', '.')]\n",
      "[('We', 'PRP'), ('must', 'MD'), ('strong', 'JJ'), ('military', 'JJ'), ('power', 'NN'), ('also', 'RB'), ('economic', 'JJ'), ('power', 'NN'), ('.', '.')]\n",
      "[('Both', 'DT'), ('must', 'MD'), ('go', 'VB'), ('hand-in-hand', 'NN'), ('.', '.')]\n",
      "[('My', 'PRP$'), ('good', 'JJ'), ('fortune', 'NN'), ('worked', 'VBD'), ('three', 'CD'), ('great', 'JJ'), ('minds', 'NNS'), ('.', '.')]\n",
      "[('Dr.', 'NNP'), ('Vikram', 'NNP'), ('Sarabhai', 'NNP'), ('Dept', 'NNP'), ('.', '.')]\n",
      "[('space', 'NN'), (',', ','), ('Professor', 'NNP'), ('Satish', 'NNP'), ('Dhawan', 'NNP'), (',', ','), ('succeeded', 'VBD'), ('Dr.', 'NNP'), ('Brahm', 'NNP'), ('Prakash', 'NNP'), (',', ','), ('father', 'RB'), ('nuclear', 'JJ'), ('material', 'NN'), ('.', '.')]\n",
      "[('I', 'PRP'), ('lucky', 'VBP'), ('worked', 'VBD'), ('three', 'CD'), ('closely', 'RB'), ('consider', 'VBP'), ('great', 'JJ'), ('opportunity', 'NN'), ('life', 'NN'), ('.', '.')]\n",
      "[('I', 'PRP'), ('see', 'VBP'), ('four', 'CD'), ('milestones', 'NNS'), ('career', 'NN'), (':', ':'), ('Twenty', 'CD'), ('years', 'NNS'), ('I', 'PRP'), ('spent', 'VBD'), ('ISRO', 'NNP'), ('.', '.')]\n",
      "[('I', 'PRP'), ('given', 'VBN'), ('opportunity', 'NN'), ('project', 'NN'), ('director', 'NN'), ('India', 'NNP'), ('’', 'NNP'), ('first', 'RB'), ('satellite', 'VBZ'), ('launch', 'JJ'), ('vehicle', 'NN'), (',', ','), ('SLV3', 'NNP'), ('.', '.')]\n",
      "[('The', 'DT'), ('one', 'CD'), ('launched', 'VBD'), ('Rohini', 'NNP'), ('.', '.')]\n",
      "[('These', 'DT'), ('years', 'NNS'), ('played', 'VBD'), ('important', 'JJ'), ('role', 'NN'), ('life', 'NN'), ('Scienc', 'NNP'), ('.', '.')]\n",
      "[('After', 'IN'), ('ISRO', 'NNP'), ('years', 'NNS'), (',', ','), ('I', 'PRP'), ('joined', 'VBD'), ('DRDO', 'NNP'), ('got', 'VBD'), ('chance', 'NN'), ('part', 'NN'), ('India', 'NNP'), ('’', 'NNP'), ('guided', 'VBD'), ('missile', 'NN'), ('program', 'NN'), ('.', '.')]\n",
      "[('It', 'PRP'), ('second', 'JJ'), ('bliss', 'JJ'), ('Agni', 'NNP'), ('met', 'VBD'), ('mission', 'NN'), ('requirements', 'NNS'), ('1994', 'CD'), ('.', '.')]\n",
      "[('The', 'DT'), ('Dept', 'NNP'), ('.', '.')]\n",
      "[('Atomic', 'NNP'), ('Energy', 'NNP'), ('DRDO', 'NNP'), ('tremendous', 'JJ'), ('partnership', 'NN'), ('recent', 'JJ'), ('nuclear', 'JJ'), ('tests', 'NNS'), (',', ','), ('May', 'NNP'), ('11', 'CD'), ('13', 'CD'), ('.', '.')]\n",
      "[('This', 'DT'), ('third', 'JJ'), ('bliss', 'NN'), ('.', '.')]\n",
      "[('The', 'DT'), ('joy', 'NN'), ('participating', 'VBG'), ('team', 'NN'), ('nuclear', 'JJ'), ('tests', 'NNS'), ('proving', 'VBG'), ('world', 'NN'), ('India', 'NNP'), ('make', 'NN'), (',', ','), ('longer', 'JJR'), ('developing', 'VBG'), ('nation', 'NN'), ('one', 'CD'), ('.', '.')]\n",
      "[('It', 'PRP'), ('made', 'VBD'), ('feel', 'VB'), ('proud', 'JJ'), ('Indian', 'NNP'), ('.', '.')]\n",
      "[('The', 'DT'), ('fact', 'NN'), ('developed', 'VBD'), ('Agni', 'NNP'), ('re-entry', 'NN'), ('structure', 'NN'), (',', ','), ('developed', 'VBD'), ('new', 'JJ'), ('material', 'NN'), ('.', '.')]\n",
      "[('A', 'DT'), ('light', 'JJ'), ('material', 'NN'), ('called', 'VBN'), ('carbon-carbon', 'NN'), ('.', '.')]\n",
      "[('One', 'CD'), ('day', 'NN'), ('orthopedic', 'JJ'), ('surgeon', 'NN'), ('Nizam', 'NNP'), ('Institute', 'NNP'), ('Medical', 'NNP'), ('Sciences', 'NNPS'), ('visited', 'VBD'), ('laboratory', 'NN'), ('.', '.')]\n",
      "[('He', 'PRP'), ('lifted', 'VBD'), ('material', 'NN'), ('found', 'NN'), ('light', 'VBD'), ('took', 'VBD'), ('hospital', 'NN'), ('showed', 'VBD'), ('patients', 'NNS'), ('.', '.')]\n",
      "[('There', 'EX'), ('little', 'JJ'), ('girls', 'NNS'), ('boys', 'VBZ'), ('heavy', 'JJ'), ('metallic', 'JJ'), ('calipers', 'NNS'), ('weighing', 'VBG'), ('three', 'CD'), ('kg', 'NN'), ('.', '.')]\n",
      "[(',', ','), ('dragging', 'VBG'), ('feet', 'NNS'), ('around', 'IN'), ('.', '.')]\n",
      "[('He', 'PRP'), ('said', 'VBD'), (':', ':'), ('Please', 'NNP'), ('remove', 'VB'), ('pain', 'NN'), ('patients', 'NNS'), ('.', '.')]\n",
      "[('In', 'IN'), ('three', 'CD'), ('weeks', 'NNS'), (',', ','), ('made', 'VBD'), ('floor', 'NN'), ('reaction', 'NN'), ('Orthosis', 'NNP'), ('300-gram', 'JJ'), ('calipers', 'NNS'), ('took', 'VBD'), ('orthopedic', 'RP'), ('center', 'NN'), ('.', '.')]\n",
      "[('The', 'DT'), ('children', 'NNS'), ('’', 'VBP'), ('believe', 'JJ'), ('eyes', 'NNS'), ('.', '.')]\n",
      "[('From', 'IN'), ('dragging', 'VBG'), ('around', 'RP'), ('three', 'CD'), ('kg', 'NN'), ('.', '.')]\n",
      "[('load', 'NN'), ('legs', 'NNS'), (',', ','), ('could', 'MD'), ('move', 'VB'), ('around', 'RB'), ('!', '.')]\n",
      "[('Their', 'PRP$'), ('parents', 'NNS'), ('tears', 'NNS'), ('eyes', 'NNS'), ('.', '.')]\n",
      "[('That', 'DT'), ('fourth', 'JJ'), ('bliss', 'NN'), ('!', '.')]\n",
      "[('Why', 'WRB'), ('media', 'NNS'), ('negative', 'JJ'), ('?', '.')]\n",
      "[('Why', 'WRB'), ('India', 'NNP'), ('embarrassed', 'VBD'), ('recognise', 'JJ'), ('strengths', 'NNS'), (',', ','), ('achievements', 'NNS'), ('?', '.')]\n",
      "[('We', 'PRP'), ('great', 'JJ'), ('nation', 'NN'), ('.', '.')]\n",
      "[('We', 'PRP'), ('many', 'JJ'), ('amazing', 'JJ'), ('success', 'NN'), ('stories', 'NNS'), ('refuse', 'VBP'), ('acknowledge', 'NN'), ('.', '.')]\n",
      "[('W', 'NN')]\n"
     ]
    }
   ],
   "source": [
    "for i in range(len(sentences)):\n",
    "    words = word_tokenize(sentences[i])\n",
    "    words = [word for word in words if word not in stop_words]\n",
    "    print(pos_tag(words))"
   ]
  },
  {
   "cell_type": "code",
   "execution_count": null,
   "id": "2beeff62-6e41-4467-aef8-0cbb7de8d5ec",
   "metadata": {},
   "outputs": [],
   "source": []
  }
 ],
 "metadata": {
  "kernelspec": {
   "display_name": "Python 3 (ipykernel)",
   "language": "python",
   "name": "python3"
  },
  "language_info": {
   "codemirror_mode": {
    "name": "ipython",
    "version": 3
   },
   "file_extension": ".py",
   "mimetype": "text/x-python",
   "name": "python",
   "nbconvert_exporter": "python",
   "pygments_lexer": "ipython3",
   "version": "3.11.7"
  }
 },
 "nbformat": 4,
 "nbformat_minor": 5
}
