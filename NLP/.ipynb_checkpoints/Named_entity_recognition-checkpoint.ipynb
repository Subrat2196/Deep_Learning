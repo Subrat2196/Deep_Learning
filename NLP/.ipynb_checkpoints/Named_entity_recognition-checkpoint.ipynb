{
 "cells": [
  {
   "cell_type": "code",
   "execution_count": 1,
   "id": "e7110090-8698-4a1d-99f5-9f950d3b876b",
   "metadata": {},
   "outputs": [],
   "source": [
    "import nltk"
   ]
  },
  {
   "cell_type": "code",
   "execution_count": 2,
   "id": "26519a00-55c8-48a5-a57a-064057919d14",
   "metadata": {},
   "outputs": [],
   "source": [
    "from nltk import ne_chunk"
   ]
  },
  {
   "cell_type": "code",
   "execution_count": 3,
   "id": "590daf98-89dc-4679-8d80-889eb8234b69",
   "metadata": {},
   "outputs": [],
   "source": [
    "corpus = '''\n",
    "The Ram Mandir (ISO: Rāma Maṁdira, lit. 'Rama Temple') is a partially constructed Hindu temple complex in Ayodhya, Uttar Pradesh, India.\n",
    "[6][7]\n",
    "Many Hindus believe that it is located at the site of Ram Janmabhoomi, the mythical birthplace of Rama, a principal deity of Hinduism.\n",
    "[8][9][10] The temple was inaugurated[7] on 22 January 2024 after a prana pratishtha (consecration) ceremony.\n",
    "[6][10] On the first day of its opening, following the consecration, the temple received a rush of over half a million visitors,[11] and after a month,\n",
    "the average number of visitors was reported to be \"1 to 1.5 lakh (100,000 to 150,000) on a daily basis\".[12]\n",
    "'''"
   ]
  },
  {
   "cell_type": "code",
   "execution_count": 4,
   "id": "30765a98-6513-464a-abca-3f4a209dd7c6",
   "metadata": {},
   "outputs": [],
   "source": [
    "from nltk import pos_tag"
   ]
  },
  {
   "cell_type": "code",
   "execution_count": 6,
   "id": "35c945c8-a8e9-4e8d-9e3f-59b75518d804",
   "metadata": {},
   "outputs": [
    {
     "data": {
      "text/plain": [
       "['The',\n",
       " 'Ram',\n",
       " 'Mandir',\n",
       " '(',\n",
       " 'ISO',\n",
       " ':',\n",
       " 'Rāma',\n",
       " 'Maṁdira',\n",
       " ',',\n",
       " 'lit',\n",
       " '.',\n",
       " \"'Rama\",\n",
       " 'Temple',\n",
       " \"'\",\n",
       " ')',\n",
       " 'is',\n",
       " 'a',\n",
       " 'partially',\n",
       " 'constructed',\n",
       " 'Hindu',\n",
       " 'temple',\n",
       " 'complex',\n",
       " 'in',\n",
       " 'Ayodhya',\n",
       " ',',\n",
       " 'Uttar',\n",
       " 'Pradesh',\n",
       " ',',\n",
       " 'India',\n",
       " '.',\n",
       " '[',\n",
       " '6',\n",
       " ']',\n",
       " '[',\n",
       " '7',\n",
       " ']',\n",
       " 'Many',\n",
       " 'Hindus',\n",
       " 'believe',\n",
       " 'that',\n",
       " 'it',\n",
       " 'is',\n",
       " 'located',\n",
       " 'at',\n",
       " 'the',\n",
       " 'site',\n",
       " 'of',\n",
       " 'Ram',\n",
       " 'Janmabhoomi',\n",
       " ',',\n",
       " 'the',\n",
       " 'mythical',\n",
       " 'birthplace',\n",
       " 'of',\n",
       " 'Rama',\n",
       " ',',\n",
       " 'a',\n",
       " 'principal',\n",
       " 'deity',\n",
       " 'of',\n",
       " 'Hinduism',\n",
       " '.',\n",
       " '[',\n",
       " '8',\n",
       " ']',\n",
       " '[',\n",
       " '9',\n",
       " ']',\n",
       " '[',\n",
       " '10',\n",
       " ']',\n",
       " 'The',\n",
       " 'temple',\n",
       " 'was',\n",
       " 'inaugurated',\n",
       " '[',\n",
       " '7',\n",
       " ']',\n",
       " 'on',\n",
       " '22',\n",
       " 'January',\n",
       " '2024',\n",
       " 'after',\n",
       " 'a',\n",
       " 'prana',\n",
       " 'pratishtha',\n",
       " '(',\n",
       " 'consecration',\n",
       " ')',\n",
       " 'ceremony',\n",
       " '.',\n",
       " '[',\n",
       " '6',\n",
       " ']',\n",
       " '[',\n",
       " '10',\n",
       " ']',\n",
       " 'On',\n",
       " 'the',\n",
       " 'first',\n",
       " 'day',\n",
       " 'of',\n",
       " 'its',\n",
       " 'opening',\n",
       " ',',\n",
       " 'following',\n",
       " 'the',\n",
       " 'consecration',\n",
       " ',',\n",
       " 'the',\n",
       " 'temple',\n",
       " 'received',\n",
       " 'a',\n",
       " 'rush',\n",
       " 'of',\n",
       " 'over',\n",
       " 'half',\n",
       " 'a',\n",
       " 'million',\n",
       " 'visitors',\n",
       " ',',\n",
       " '[',\n",
       " '11',\n",
       " ']',\n",
       " 'and',\n",
       " 'after',\n",
       " 'a',\n",
       " 'month',\n",
       " ',',\n",
       " 'the',\n",
       " 'average',\n",
       " 'number',\n",
       " 'of',\n",
       " 'visitors',\n",
       " 'was',\n",
       " 'reported',\n",
       " 'to',\n",
       " 'be',\n",
       " '``',\n",
       " '1',\n",
       " 'to',\n",
       " '1.5',\n",
       " 'lakh',\n",
       " '(',\n",
       " '100,000',\n",
       " 'to',\n",
       " '150,000',\n",
       " ')',\n",
       " 'on',\n",
       " 'a',\n",
       " 'daily',\n",
       " 'basis',\n",
       " \"''\",\n",
       " '.',\n",
       " '[',\n",
       " '12',\n",
       " ']']"
      ]
     },
     "execution_count": 6,
     "metadata": {},
     "output_type": "execute_result"
    }
   ],
   "source": [
    "from nltk.tokenize import word_tokenize \n",
    "words = word_tokenize(corpus)\n",
    "words"
   ]
  },
  {
   "cell_type": "code",
   "execution_count": 10,
   "id": "357eb231-d003-48ca-a3ed-297387ceb27d",
   "metadata": {},
   "outputs": [
    {
     "name": "stderr",
     "output_type": "stream",
     "text": [
      "[nltk_data] Downloading package maxent_ne_chunker to\n",
      "[nltk_data]     C:\\Users\\Anonymous\\AppData\\Roaming\\nltk_data...\n",
      "[nltk_data]   Package maxent_ne_chunker is already up-to-date!\n",
      "[nltk_data] Downloading package words to\n",
      "[nltk_data]     C:\\Users\\Anonymous\\AppData\\Roaming\\nltk_data...\n",
      "[nltk_data]   Unzipping corpora\\words.zip.\n"
     ]
    },
    {
     "data": {
      "text/plain": [
       "True"
      ]
     },
     "execution_count": 10,
     "metadata": {},
     "output_type": "execute_result"
    }
   ],
   "source": [
    "nltk.download('maxent_ne_chunker')\n",
    "nltk.download('words')"
   ]
  },
  {
   "cell_type": "code",
   "execution_count": 12,
   "id": "4f5eddf2-b0b2-4eb5-976b-b04612652107",
   "metadata": {},
   "outputs": [],
   "source": [
    "words = pos_tag(words)"
   ]
  },
  {
   "cell_type": "code",
   "execution_count": 15,
   "id": "0e8470de-4bf0-428c-9362-6ea62259a8db",
   "metadata": {},
   "outputs": [],
   "source": [
    "named_entity_recog = ne_chunk(words).draw()"
   ]
  },
  {
   "cell_type": "code",
   "execution_count": 16,
   "id": "edf43d76-8589-4a82-93ff-cfc275f2e805",
   "metadata": {},
   "outputs": [],
   "source": [
    "named_entity_recog"
   ]
  },
  {
   "cell_type": "code",
   "execution_count": null,
   "id": "659d7e47-0aaa-45e0-a93b-9809acc288b5",
   "metadata": {},
   "outputs": [],
   "source": []
  }
 ],
 "metadata": {
  "kernelspec": {
   "display_name": "Python 3 (ipykernel)",
   "language": "python",
   "name": "python3"
  },
  "language_info": {
   "codemirror_mode": {
    "name": "ipython",
    "version": 3
   },
   "file_extension": ".py",
   "mimetype": "text/x-python",
   "name": "python",
   "nbconvert_exporter": "python",
   "pygments_lexer": "ipython3",
   "version": "3.11.7"
  }
 },
 "nbformat": 4,
 "nbformat_minor": 5
}
